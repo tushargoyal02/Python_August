{
 "cells": [
  {
   "cell_type": "code",
   "execution_count": 1,
   "id": "7d0df591",
   "metadata": {},
   "outputs": [],
   "source": [
    "# lambda funcitons \n",
    "\n",
    "#  annoynmous functions => normal function work\n",
    "# oneline function => 1 line mai execute\n",
    "\n",
    "# def name\n",
    "# lambda ( no name here)\n",
    "\n",
    "# lambda para1,param2 : expression\n",
    "\n"
   ]
  },
  {
   "cell_type": "code",
   "execution_count": 8,
   "id": "04366fff",
   "metadata": {},
   "outputs": [
    {
     "data": {
      "text/plain": [
       "<function __main__.square(num)>"
      ]
     },
     "execution_count": 8,
     "metadata": {},
     "output_type": "execute_result"
    }
   ],
   "source": [
    "def square(num):\n",
    "    return num**2\n",
    "square"
   ]
  },
  {
   "cell_type": "code",
   "execution_count": 9,
   "id": "2216c3e3",
   "metadata": {},
   "outputs": [],
   "source": [
    "xyz = lambda num: num**2"
   ]
  },
  {
   "cell_type": "code",
   "execution_count": 11,
   "id": "a312b750",
   "metadata": {},
   "outputs": [
    {
     "data": {
      "text/plain": [
       "100"
      ]
     },
     "execution_count": 11,
     "metadata": {},
     "output_type": "execute_result"
    }
   ],
   "source": [
    "xyz(10)"
   ]
  },
  {
   "cell_type": "code",
   "execution_count": 6,
   "id": "0aad03b1",
   "metadata": {},
   "outputs": [
    {
     "name": "stdout",
     "output_type": "stream",
     "text": [
      "Value return is 100\n"
     ]
    }
   ],
   "source": [
    "x=square(10)\n",
    "\n",
    "print(\"Value return is\",x)"
   ]
  },
  {
   "cell_type": "code",
   "execution_count": 12,
   "id": "4c36a386",
   "metadata": {},
   "outputs": [],
   "source": [
    "def square(num):\n",
    "    return num**2\n",
    "\n",
    "mylist=[10,20,30,40]\n",
    "\n",
    "for data in mylist:\n",
    "    square(data)"
   ]
  },
  {
   "cell_type": "code",
   "execution_count": 15,
   "id": "1a294902",
   "metadata": {},
   "outputs": [
    {
     "data": {
      "text/plain": [
       "[100, 400, 900, 1600]"
      ]
     },
     "execution_count": 15,
     "metadata": {},
     "output_type": "execute_result"
    }
   ],
   "source": [
    "#   map functions => pick every individual element \n",
    "#  function apply => return that value\n",
    "def square(num):\n",
    "    return num**2\n",
    "\n",
    "mylist=[10,20,30,40]\n",
    "\n",
    "list( map(square, mylist) )"
   ]
  },
  {
   "cell_type": "code",
   "execution_count": 17,
   "id": "196e3b7c",
   "metadata": {},
   "outputs": [
    {
     "data": {
      "text/plain": [
       "[100, 400, 900, 1600]"
      ]
     },
     "execution_count": 17,
     "metadata": {},
     "output_type": "execute_result"
    }
   ],
   "source": [
    "mylist=[10,20,30,40]\n",
    "\n",
    "# list( map(square, mylist) )\n",
    "list( map( lambda  num: num**2, mylist) )\n"
   ]
  },
  {
   "cell_type": "code",
   "execution_count": 19,
   "id": "339f2975",
   "metadata": {},
   "outputs": [
    {
     "data": {
      "text/plain": [
       "[['hey', 'tushar'], ['raj', 'here']]"
      ]
     },
     "execution_count": 19,
     "metadata": {},
     "output_type": "execute_result"
    }
   ],
   "source": [
    "mylist=[\"hey tushar\",\"raj here\"]\n",
    "\n",
    "# list( map(square, mylist) )\n",
    "list( map( lambda  x: x.split(\" \") , mylist) )"
   ]
  },
  {
   "cell_type": "code",
   "execution_count": 20,
   "id": "ca2e335e",
   "metadata": {},
   "outputs": [],
   "source": [
    "#  function, type of argument, first-class vs high order\n",
    "#  map"
   ]
  },
  {
   "cell_type": "code",
   "execution_count": 25,
   "id": "074a81e4",
   "metadata": {},
   "outputs": [
    {
     "name": "stdout",
     "output_type": "stream",
     "text": [
      "tushar\n",
      "error generated\n"
     ]
    }
   ],
   "source": [
    "#  expectional handling\n",
    "#  try - except\n",
    "\n",
    "try:\n",
    "    x=10\n",
    "    print(\"tushar\")\n",
    "    x/0\n",
    "    print(\"hey\")\n",
    "except:\n",
    "    print(\"error generated\")"
   ]
  },
  {
   "cell_type": "code",
   "execution_count": 31,
   "id": "08058447",
   "metadata": {},
   "outputs": [
    {
     "name": "stdout",
     "output_type": "stream",
     "text": [
      "tushar\n",
      "error generated name 'xxxx' is not defined\n"
     ]
    }
   ],
   "source": [
    "try:\n",
    "    x=10\n",
    "    print(\"tushar\")\n",
    "    x/xxxx\n",
    "    print(\"hey\")\n",
    "except Exception as e:\n",
    "    print(\"error generated\",e)"
   ]
  },
  {
   "cell_type": "code",
   "execution_count": 32,
   "id": "3d17b561",
   "metadata": {},
   "outputs": [
    {
     "ename": "NameError",
     "evalue": "name 'cc' is not defined",
     "output_type": "error",
     "traceback": [
      "\u001b[1;31m---------------------------------------------------------------------------\u001b[0m",
      "\u001b[1;31mNameError\u001b[0m                                 Traceback (most recent call last)",
      "Cell \u001b[1;32mIn[32], line 3\u001b[0m\n\u001b[0;32m      1\u001b[0m a\u001b[38;5;241m=\u001b[39m\u001b[38;5;241m10\u001b[39m\n\u001b[1;32m----> 3\u001b[0m a\u001b[38;5;241m/\u001b[39m\u001b[43mcc\u001b[49m\n",
      "\u001b[1;31mNameError\u001b[0m: name 'cc' is not defined"
     ]
    }
   ],
   "source": [
    "a=10\n",
    "\n",
    "a/cc"
   ]
  },
  {
   "cell_type": "code",
   "execution_count": 35,
   "id": "89b9d994",
   "metadata": {},
   "outputs": [
    {
     "name": "stdout",
     "output_type": "stream",
     "text": [
      "tushar\n"
     ]
    },
    {
     "ename": "ZeroDivisionError",
     "evalue": "division by zero",
     "output_type": "error",
     "traceback": [
      "\u001b[1;31m---------------------------------------------------------------------------\u001b[0m",
      "\u001b[1;31mZeroDivisionError\u001b[0m                         Traceback (most recent call last)",
      "Cell \u001b[1;32mIn[35], line 4\u001b[0m\n\u001b[0;32m      2\u001b[0m     x\u001b[38;5;241m=\u001b[39m\u001b[38;5;241m10\u001b[39m\n\u001b[0;32m      3\u001b[0m     \u001b[38;5;28mprint\u001b[39m(\u001b[38;5;124m\"\u001b[39m\u001b[38;5;124mtushar\u001b[39m\u001b[38;5;124m\"\u001b[39m)\n\u001b[1;32m----> 4\u001b[0m     \u001b[43mx\u001b[49m\u001b[38;5;241;43m/\u001b[39;49m\u001b[38;5;241;43m0\u001b[39;49m\n\u001b[0;32m      5\u001b[0m     \u001b[38;5;28mprint\u001b[39m(\u001b[38;5;124m\"\u001b[39m\u001b[38;5;124mhey\u001b[39m\u001b[38;5;124m\"\u001b[39m)\n\u001b[0;32m      6\u001b[0m \u001b[38;5;28;01mexcept\u001b[39;00m \u001b[38;5;167;01mNameError\u001b[39;00m \u001b[38;5;28;01mas\u001b[39;00m e:\n",
      "\u001b[1;31mZeroDivisionError\u001b[0m: division by zero"
     ]
    }
   ],
   "source": [
    "try:\n",
    "    x=10\n",
    "    print(\"tushar\")\n",
    "    x/0\n",
    "    print(\"hey\")\n",
    "except NameError as e:\n",
    "    print(\"error generated\",e)"
   ]
  },
  {
   "cell_type": "code",
   "execution_count": 37,
   "id": "5d29001b",
   "metadata": {},
   "outputs": [
    {
     "name": "stdout",
     "output_type": "stream",
     "text": [
      "tushar\n",
      "error generated name 'kkk' is not defined\n"
     ]
    }
   ],
   "source": [
    "try:\n",
    "    x=10\n",
    "    print(\"tushar\")\n",
    "    x/kkk\n",
    "    print(\"hey\")\n",
    "except NameError as e:\n",
    "    print(\"error generated\",e)\n",
    "except ZeroDivisionError as e:\n",
    "    print(\"error  Zero division generated\",e)"
   ]
  },
  {
   "cell_type": "code",
   "execution_count": 42,
   "id": "f712d355",
   "metadata": {},
   "outputs": [
    {
     "name": "stdout",
     "output_type": "stream",
     "text": [
      "tushar\n",
      "error found string index out of range\n"
     ]
    }
   ],
   "source": [
    "try:\n",
    "    x=10\n",
    "    print(\"tushar\")\n",
    "    y=\"hi\"\n",
    "    y[20]\n",
    "    x/0\n",
    "    \n",
    "    print(\"hey\")\n",
    "except (NameError,ZeroDivisionError) as e:\n",
    "    print(\"error generated\",e)\n",
    "except Exception as e:\n",
    "    print(\"error found\",e)"
   ]
  },
  {
   "cell_type": "code",
   "execution_count": 45,
   "id": "2e779084",
   "metadata": {},
   "outputs": [
    {
     "name": "stdout",
     "output_type": "stream",
     "text": [
      "error here\n",
      "hello user\n",
      "hey user\n"
     ]
    }
   ],
   "source": [
    "try:\n",
    "    x=10\n",
    "    try:\n",
    "        x/0\n",
    "    except:\n",
    "        print(\"error here\")\n",
    "    \n",
    "    print(\"hello user\")\n",
    "    print(\"hey user\")\n",
    "except:\n",
    "    print(\"#### ERROR FOUND HERE ##\")"
   ]
  },
  {
   "cell_type": "code",
   "execution_count": 48,
   "id": "3bf1fd06",
   "metadata": {},
   "outputs": [
    {
     "name": "stdout",
     "output_type": "stream",
     "text": [
      "ERROR\n"
     ]
    }
   ],
   "source": [
    "try:\n",
    "    x=10\n",
    "    x/0\n",
    "except:\n",
    "    print(\"ERROR\")\n",
    "else:\n",
    "    print(\"hello user\")"
   ]
  },
  {
   "cell_type": "code",
   "execution_count": 51,
   "id": "860b7b93",
   "metadata": {},
   "outputs": [
    {
     "name": "stdout",
     "output_type": "stream",
     "text": [
      "hello user\n"
     ]
    }
   ],
   "source": [
    "try:\n",
    "    x=10\n",
    "    \n",
    "except:\n",
    "    print(\"ERROR\")\n",
    "finally:\n",
    "    print(\"hello user\")"
   ]
  },
  {
   "cell_type": "code",
   "execution_count": 54,
   "id": "04332f0e",
   "metadata": {},
   "outputs": [
    {
     "name": "stdout",
     "output_type": "stream",
     "text": [
      "11\n"
     ]
    }
   ],
   "source": [
    "try:\n",
    "    x=11\n",
    "    if(x%2==0):\n",
    "        raise ValueError\n",
    "    else:\n",
    "        print(x)\n",
    "\n",
    "except ValueError:\n",
    "    print(\"Error is\")"
   ]
  },
  {
   "cell_type": "code",
   "execution_count": 57,
   "id": "426ed38f",
   "metadata": {},
   "outputs": [
    {
     "data": {
      "text/plain": [
       "'hey'"
      ]
     },
     "execution_count": 57,
     "metadata": {},
     "output_type": "execute_result"
    }
   ],
   "source": [
    "def square(num:int):\n",
    "    return num\n",
    "\n",
    "square(\"hey\")"
   ]
  },
  {
   "cell_type": "code",
   "execution_count": 59,
   "id": "7d8cc6c6",
   "metadata": {},
   "outputs": [],
   "source": [
    "#  file handling :\n",
    "#  mechanism the file => jo yh input , output \n"
   ]
  },
  {
   "cell_type": "code",
   "execution_count": 64,
   "id": "7b718b1a",
   "metadata": {},
   "outputs": [
    {
     "name": "stdout",
     "output_type": "stream",
     "text": [
      "hey tushar this side\n"
     ]
    }
   ],
   "source": [
    "# file_obj= open(\"filename\",\"access-modifier\")\n",
    "# r, w, a\n",
    "\n",
    "fileObj=open(\"regex.txt\",\"r\")\n",
    "x=fileObj.read()\n",
    "fileObj.close()\n",
    "\n",
    "print(x)"
   ]
  },
  {
   "cell_type": "code",
   "execution_count": 72,
   "id": "80c401e2",
   "metadata": {},
   "outputs": [],
   "source": [
    "fileObj=open(\"regex.txt\",\"r+\")\n",
    "fileObj.write(\"$$\")\n",
    "x=fileObj.read()\n",
    "\n",
    "fileObj.close()"
   ]
  },
  {
   "cell_type": "code",
   "execution_count": 73,
   "id": "19716588",
   "metadata": {},
   "outputs": [
    {
     "name": "stdout",
     "output_type": "stream",
     "text": [
      "shar\n"
     ]
    }
   ],
   "source": [
    "print(x)"
   ]
  },
  {
   "cell_type": "code",
   "execution_count": null,
   "id": "063905a3",
   "metadata": {},
   "outputs": [],
   "source": []
  },
  {
   "cell_type": "code",
   "execution_count": 77,
   "id": "2aa65b95",
   "metadata": {},
   "outputs": [],
   "source": [
    "fileObj=open(\"regex.txt\",\"a+\")\n",
    "fileObj.write(\"ion\")\n",
    "\n",
    "\n",
    "fileObj.close()\n"
   ]
  },
  {
   "cell_type": "code",
   "execution_count": 83,
   "id": "e30bb770",
   "metadata": {},
   "outputs": [
    {
     "name": "stdout",
     "output_type": "stream",
     "text": [
      "0\n",
      "3\n",
      "After write 17\n",
      "##i\n"
     ]
    }
   ],
   "source": [
    "fileObj=open(\"regex.txt\",\"r+\")\n",
    "\n",
    "print( fileObj.tell() )\n",
    "\n",
    "x=fileObj.read(3)\n",
    "\n",
    "print( fileObj.tell() )\n",
    "fileObj.write(\"$$$\")\n",
    "print(\"After write\", fileObj.tell() )\n",
    "fileObj.close()\n",
    "print(x)"
   ]
  },
  {
   "cell_type": "code",
   "execution_count": 89,
   "id": "50930299",
   "metadata": {},
   "outputs": [
    {
     "name": "stdout",
     "output_type": "stream",
     "text": [
      "13\n",
      "2\n",
      "5\n",
      "After write 16\n",
      "y t\n"
     ]
    }
   ],
   "source": [
    "fileObj=open(\"regex.txt\",\"a+\")\n",
    "\n",
    "print( fileObj.tell() )\n",
    "\n",
    "fileObj.seek(2)\n",
    "print( fileObj.tell() )\n",
    "x=fileObj.read(3)\n",
    "\n",
    "print( fileObj.tell() )\n",
    "fileObj.write(\"$$$\")\n",
    "print(\"After write\", fileObj.tell() )\n",
    "fileObj.close()\n",
    "print(x)"
   ]
  },
  {
   "cell_type": "code",
   "execution_count": null,
   "id": "205cccaf",
   "metadata": {},
   "outputs": [],
   "source": [
    "#  exception vs error\n",
    "#  why syntax error are not handled\n",
    "# read vs readline method\n",
    "#  file handling -> second method ( with keyword )\n",
    "# life scope of variable => how to make changes to the global\n",
    "# variable inside the function\n",
    "\n",
    "# Ek chota sa kaam with python program \n",
    "#  try to download youtube video as provided by the user"
   ]
  }
 ],
 "metadata": {
  "kernelspec": {
   "display_name": "Python 3 (ipykernel)",
   "language": "python",
   "name": "python3"
  },
  "language_info": {
   "codemirror_mode": {
    "name": "ipython",
    "version": 3
   },
   "file_extension": ".py",
   "mimetype": "text/x-python",
   "name": "python",
   "nbconvert_exporter": "python",
   "pygments_lexer": "ipython3",
   "version": "3.10.11"
  }
 },
 "nbformat": 4,
 "nbformat_minor": 5
}
