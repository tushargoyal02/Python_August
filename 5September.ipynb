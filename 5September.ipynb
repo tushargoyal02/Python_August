{
 "cells": [
  {
   "cell_type": "code",
   "execution_count": 4,
   "id": "24c54b61",
   "metadata": {},
   "outputs": [
    {
     "data": {
      "text/plain": [
       "6.666666666666667"
      ]
     },
     "execution_count": 4,
     "metadata": {},
     "output_type": "execute_result"
    }
   ],
   "source": [
    "#  operator ? \n",
    "#  symbols\n",
    "# arithmetic \n",
    "\n",
    "# +,-,*,/,//,%,**\n",
    "#  // \n",
    "\n",
    "20/3"
   ]
  },
  {
   "cell_type": "code",
   "execution_count": 6,
   "id": "6e508a4c",
   "metadata": {},
   "outputs": [
    {
     "data": {
      "text/plain": [
       "6"
      ]
     },
     "execution_count": 6,
     "metadata": {},
     "output_type": "execute_result"
    }
   ],
   "source": [
    "20//3"
   ]
  },
  {
   "cell_type": "code",
   "execution_count": 8,
   "id": "b7c3ab76",
   "metadata": {},
   "outputs": [
    {
     "data": {
      "text/plain": [
       "2"
      ]
     },
     "execution_count": 8,
     "metadata": {},
     "output_type": "execute_result"
    }
   ],
   "source": [
    "20%3"
   ]
  },
  {
   "cell_type": "code",
   "execution_count": 9,
   "id": "8a625e4a",
   "metadata": {},
   "outputs": [
    {
     "data": {
      "text/plain": [
       "8"
      ]
     },
     "execution_count": 9,
     "metadata": {},
     "output_type": "execute_result"
    }
   ],
   "source": [
    "2**3\n",
    "#  2*2*2"
   ]
  },
  {
   "cell_type": "code",
   "execution_count": 12,
   "id": "7ecdc3d0",
   "metadata": {},
   "outputs": [
    {
     "data": {
      "text/plain": [
       "0"
      ]
     },
     "execution_count": 12,
     "metadata": {},
     "output_type": "execute_result"
    }
   ],
   "source": [
    "#  **\n",
    "# * / ,// %\n",
    "#  + -\n",
    "\n",
    "10%2*3**2"
   ]
  },
  {
   "cell_type": "code",
   "execution_count": 13,
   "id": "5770c49c",
   "metadata": {},
   "outputs": [],
   "source": [
    "# comparision operator\n",
    "# var=data   , var=<expression>"
   ]
  },
  {
   "cell_type": "code",
   "execution_count": 16,
   "id": "cf5964dd",
   "metadata": {},
   "outputs": [
    {
     "data": {
      "text/plain": [
       "True"
      ]
     },
     "execution_count": 16,
     "metadata": {},
     "output_type": "execute_result"
    }
   ],
   "source": [
    "x=10\n",
    "\n",
    "#  boolean mai ans \n",
    "x<20\n",
    "#  > , < , >=, <= , !=, ==\n",
    "\n"
   ]
  },
  {
   "cell_type": "code",
   "execution_count": 17,
   "id": "03311792",
   "metadata": {},
   "outputs": [],
   "source": [
    "# assignment operator\n",
    "\n",
    "x=10"
   ]
  },
  {
   "cell_type": "code",
   "execution_count": 19,
   "id": "dcfeb566",
   "metadata": {},
   "outputs": [
    {
     "name": "stdout",
     "output_type": "stream",
     "text": [
      "15\n"
     ]
    }
   ],
   "source": [
    "x=10\n",
    "\n",
    "x+=5\n",
    "\n",
    "# x=x+5  , x=x*5  =>x*=5\n",
    "print(x)"
   ]
  },
  {
   "cell_type": "code",
   "execution_count": 20,
   "id": "09d5d646",
   "metadata": {},
   "outputs": [],
   "source": [
    "# bitwise - to learn by yourself"
   ]
  },
  {
   "cell_type": "code",
   "execution_count": 26,
   "id": "59d26590",
   "metadata": {},
   "outputs": [
    {
     "data": {
      "text/plain": [
       "False"
      ]
     },
     "execution_count": 26,
     "metadata": {},
     "output_type": "execute_result"
    }
   ],
   "source": [
    "#  logical operator\n",
    "x=10\n",
    "y=20\n",
    "\n",
    "x>=10  and y<20"
   ]
  },
  {
   "cell_type": "code",
   "execution_count": 30,
   "id": "b9ccf877",
   "metadata": {},
   "outputs": [
    {
     "data": {
      "text/plain": [
       "False"
      ]
     },
     "execution_count": 30,
     "metadata": {},
     "output_type": "execute_result"
    }
   ],
   "source": [
    "x=10\n",
    "y=20\n",
    "\n",
    "x>10 or y<20"
   ]
  },
  {
   "cell_type": "code",
   "execution_count": 32,
   "id": "894b7cfa",
   "metadata": {},
   "outputs": [
    {
     "data": {
      "text/plain": [
       "True"
      ]
     },
     "execution_count": 32,
     "metadata": {},
     "output_type": "execute_result"
    }
   ],
   "source": [
    "x=10\n",
    "not(x<10)"
   ]
  },
  {
   "cell_type": "code",
   "execution_count": 34,
   "id": "a48eb9dd",
   "metadata": {},
   "outputs": [],
   "source": [
    "# arithmetic, logicla, comparsion, assignment\n",
    "#  bitwise"
   ]
  },
  {
   "cell_type": "code",
   "execution_count": 37,
   "id": "7fce99ed",
   "metadata": {},
   "outputs": [
    {
     "name": "stdout",
     "output_type": "stream",
     "text": [
      "<class 'int'>\n"
     ]
    }
   ],
   "source": [
    "# identity operator\n",
    "\n",
    "x=10\n",
    "print(type(x))"
   ]
  },
  {
   "cell_type": "code",
   "execution_count": 38,
   "id": "94fbd4d2",
   "metadata": {},
   "outputs": [
    {
     "data": {
      "text/plain": [
       "True"
      ]
     },
     "execution_count": 38,
     "metadata": {},
     "output_type": "execute_result"
    }
   ],
   "source": [
    "#  data type, whether a object belong to certain class or not\n",
    "\n",
    "x=10\n",
    "type(x) is int"
   ]
  },
  {
   "cell_type": "code",
   "execution_count": 40,
   "id": "892facd2",
   "metadata": {},
   "outputs": [
    {
     "data": {
      "text/plain": [
       "True"
      ]
     },
     "execution_count": 40,
     "metadata": {},
     "output_type": "execute_result"
    }
   ],
   "source": [
    "x=500\n",
    "y=500\n",
    "\n",
    "x==y"
   ]
  },
  {
   "cell_type": "code",
   "execution_count": 47,
   "id": "8dc54db3",
   "metadata": {},
   "outputs": [
    {
     "name": "stdout",
     "output_type": "stream",
     "text": [
      "True\n",
      "2083792291600 2083792291600\n"
     ]
    }
   ],
   "source": [
    "x=50\n",
    "y=50\n",
    "\n",
    "print(x is y)\n",
    "\n",
    "#  0 - 255 cache memory\n",
    "print(id(x), id(y))"
   ]
  },
  {
   "cell_type": "code",
   "execution_count": 50,
   "id": "244e1a92",
   "metadata": {},
   "outputs": [
    {
     "name": "stdout",
     "output_type": "stream",
     "text": [
      "False\n",
      "2083875636112 2083875636112\n"
     ]
    }
   ],
   "source": [
    "x=500\n",
    "y=x\n",
    "\n",
    "print(x is not y)\n",
    "\n",
    "print(id(x), id(y))"
   ]
  },
  {
   "cell_type": "code",
   "execution_count": 51,
   "id": "9dcaf49b",
   "metadata": {},
   "outputs": [],
   "source": [
    "# == and is operator\n",
    "\n"
   ]
  },
  {
   "cell_type": "code",
   "execution_count": 52,
   "id": "03c08ef8",
   "metadata": {},
   "outputs": [
    {
     "data": {
      "text/plain": [
       "False"
      ]
     },
     "execution_count": 52,
     "metadata": {},
     "output_type": "execute_result"
    }
   ],
   "source": [
    "\"d\" in \"hello\""
   ]
  },
  {
   "cell_type": "code",
   "execution_count": 57,
   "id": "ed1fe8c6",
   "metadata": {},
   "outputs": [
    {
     "data": {
      "text/plain": [
       "False"
      ]
     },
     "execution_count": 57,
     "metadata": {},
     "output_type": "execute_result"
    }
   ],
   "source": [
    "\"lz\" not in  \"hellzo\""
   ]
  },
  {
   "cell_type": "code",
   "execution_count": 61,
   "id": "a0e9953f",
   "metadata": {},
   "outputs": [
    {
     "name": "stdout",
     "output_type": "stream",
     "text": [
      "my age is 60\n"
     ]
    }
   ],
   "source": [
    "# conditional statement\n",
    "#  if    => case and switch\n",
    "'''\n",
    "if(condition => True):\n",
    "    print\n",
    "\n",
    "\n",
    "'''\n",
    "print(\"my age is 60\")"
   ]
  },
  {
   "cell_type": "code",
   "execution_count": 70,
   "id": "7fd9e47e",
   "metadata": {},
   "outputs": [
    {
     "name": "stdout",
     "output_type": "stream",
     "text": [
      "Condition is false\n"
     ]
    },
    {
     "data": {
      "text/plain": [
       "2"
      ]
     },
     "execution_count": 70,
     "metadata": {},
     "output_type": "execute_result"
    }
   ],
   "source": [
    "x=10\n",
    "\n",
    "y=\"hi\"\n",
    "\n",
    "\n",
    "if(x>10):\n",
    "    print(\"hello\")\n",
    "else:\n",
    "    print(\"Condition is false\")\n",
    "    \n",
    "    \n",
    "len(y)"
   ]
  },
  {
   "cell_type": "code",
   "execution_count": 71,
   "id": "a004fc99",
   "metadata": {},
   "outputs": [
    {
     "name": "stdout",
     "output_type": "stream",
     "text": [
      "Condition is false\n"
     ]
    },
    {
     "data": {
      "text/plain": [
       "2"
      ]
     },
     "execution_count": 71,
     "metadata": {},
     "output_type": "execute_result"
    }
   ],
   "source": [
    "y=\"hi\"\n",
    "\n",
    "num=len(y)\n",
    "\n",
    "if( num>5 and len(y)<10):\n",
    "    print(\"hello\")\n",
    "else:\n",
    "    print(\"Condition is false\")\n",
    "    \n",
    "    \n",
    "len(y)"
   ]
  },
  {
   "cell_type": "code",
   "execution_count": 76,
   "id": "595c7788",
   "metadata": {},
   "outputs": [
    {
     "name": "stdout",
     "output_type": "stream",
     "text": [
      "Not working\n"
     ]
    }
   ],
   "source": [
    "x=10\n",
    "\n",
    "if(x>90):\n",
    "    print(\"hello 90\")\n",
    "    \n",
    "elif(x>=80):\n",
    "    print(\"hello\")\n",
    "\n",
    "else:\n",
    "    print(\"Not working\")\n",
    "\n"
   ]
  },
  {
   "cell_type": "code",
   "execution_count": 79,
   "id": "da4baf0c",
   "metadata": {},
   "outputs": [],
   "source": []
  },
  {
   "cell_type": "code",
   "execution_count": 82,
   "id": "b56348c2",
   "metadata": {},
   "outputs": [
    {
     "name": "stdout",
     "output_type": "stream",
     "text": [
      "Allowed in airport\n"
     ]
    }
   ],
   "source": [
    "age=18\n",
    "email=\"gmail.com\"\n",
    "\n",
    "if(age>18):\n",
    "    if(email==\"gmail.com\"):\n",
    "        print(\"Allowed in airport\")\n",
    "    else:\n",
    "        print(\"Email is wrong\")\n",
    "\n",
    "else:\n",
    "    print(\"Not alllowd\")"
   ]
  },
  {
   "cell_type": "code",
   "execution_count": null,
   "id": "ed692abf",
   "metadata": {},
   "outputs": [],
   "source": []
  }
 ],
 "metadata": {
  "kernelspec": {
   "display_name": "Python 3 (ipykernel)",
   "language": "python",
   "name": "python3"
  },
  "language_info": {
   "codemirror_mode": {
    "name": "ipython",
    "version": 3
   },
   "file_extension": ".py",
   "mimetype": "text/x-python",
   "name": "python",
   "nbconvert_exporter": "python",
   "pygments_lexer": "ipython3",
   "version": "3.10.11"
  }
 },
 "nbformat": 4,
 "nbformat_minor": 5
}
