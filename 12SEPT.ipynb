{
 "cells": [
  {
   "cell_type": "code",
   "execution_count": 1,
   "id": "18881ccc",
   "metadata": {},
   "outputs": [],
   "source": [
    "# dictionary & sets\n",
    "\n",
    "#  functions => block of code\n",
    "#  x=10, y =20  x+y"
   ]
  },
  {
   "cell_type": "code",
   "execution_count": 7,
   "id": "5681d042",
   "metadata": {},
   "outputs": [],
   "source": [
    "# function declarations\n",
    "# x paramater\n",
    "\n",
    "def hello(x):\n",
    "    print(\"hello user\",x)"
   ]
  },
  {
   "cell_type": "code",
   "execution_count": 11,
   "id": "49aee452",
   "metadata": {},
   "outputs": [
    {
     "name": "stdout",
     "output_type": "stream",
     "text": [
      "hello user tushar\n",
      "hello user 100\n"
     ]
    }
   ],
   "source": [
    "# function calling\n",
    "# argument\n",
    "hello(\"tushar\")\n",
    "hello(100)"
   ]
  },
  {
   "cell_type": "code",
   "execution_count": 17,
   "id": "30d6ced3",
   "metadata": {},
   "outputs": [
    {
     "name": "stdout",
     "output_type": "stream",
     "text": [
      "x: 10 2434726953488\n",
      "num 20 2434726953808\n",
      "After x: 10 2434726953488\n"
     ]
    }
   ],
   "source": [
    "def addnumber(num):\n",
    "    num=20\n",
    "    print(\"num\",num, id(num))\n",
    "\n",
    "x=10\n",
    "print(\"x:\",x, id(x))\n",
    "addnumber(x)\n",
    "print(\"After x:\",x, id(x))"
   ]
  },
  {
   "cell_type": "code",
   "execution_count": 20,
   "id": "ddde4761",
   "metadata": {},
   "outputs": [
    {
     "name": "stdout",
     "output_type": "stream",
     "text": [
      "function inside [99, 20]\n",
      "[99, 20]\n"
     ]
    }
   ],
   "source": [
    "mylist=[10,20]\n",
    "\n",
    "def func(list1):\n",
    "    list1[0]=99\n",
    "    print(\"function inside\",list1)\n",
    "    \n",
    "func(mylist)\n",
    "print(mylist)"
   ]
  },
  {
   "cell_type": "code",
   "execution_count": 21,
   "id": "0f8b95fb",
   "metadata": {},
   "outputs": [],
   "source": [
    "# function values\n",
    "\n",
    "def func(ids, name):\n",
    "    print(\"Ids:\",ids, \"name:\",name)"
   ]
  },
  {
   "cell_type": "code",
   "execution_count": 26,
   "id": "cd8066f7",
   "metadata": {},
   "outputs": [
    {
     "name": "stdout",
     "output_type": "stream",
     "text": [
      "Ids: 10 name: 20\n"
     ]
    }
   ],
   "source": [
    "# type of argument passing => required argument\n",
    "func(10,20)"
   ]
  },
  {
   "cell_type": "code",
   "execution_count": 30,
   "id": "bbaa3292",
   "metadata": {},
   "outputs": [
    {
     "name": "stdout",
     "output_type": "stream",
     "text": [
      "Ids: tushar name: 10\n"
     ]
    }
   ],
   "source": [
    "# positional argument\n",
    "def func(ids, name):\n",
    "    print(\"Ids:\",ids, \"name:\",name)\n",
    "    \n",
    "func(\"tushar\",10)"
   ]
  },
  {
   "cell_type": "code",
   "execution_count": 32,
   "id": "0b80445c",
   "metadata": {},
   "outputs": [
    {
     "name": "stdout",
     "output_type": "stream",
     "text": [
      "Ids: 10 name: tushar\n"
     ]
    }
   ],
   "source": [
    "# keyword argument\n",
    "\n",
    "def func(ids, name):\n",
    "    print(\"Ids:\",ids, \"name:\",name)\n",
    "    \n",
    "func(name=\"tushar\",ids=10)"
   ]
  },
  {
   "cell_type": "code",
   "execution_count": 38,
   "id": "9c6ab1ea",
   "metadata": {},
   "outputs": [
    {
     "name": "stdout",
     "output_type": "stream",
     "text": [
      "Ids: 10 name: ujjwal\n"
     ]
    }
   ],
   "source": [
    "# default argument\n",
    "def func(ids, name=\"tushar\"):\n",
    "    print(\"Ids:\",ids, \"name:\",name)\n",
    "    \n",
    "func(10,\"ujjwal\")"
   ]
  },
  {
   "cell_type": "code",
   "execution_count": 44,
   "id": "5e1790d3",
   "metadata": {},
   "outputs": [
    {
     "name": "stdout",
     "output_type": "stream",
     "text": [
      "(10, 20, 'hello')\n"
     ]
    }
   ],
   "source": [
    "# variable length argument\n",
    "def func(*args):\n",
    "    print(args)\n",
    "    \n",
    "func(10,20,\"hello\")"
   ]
  },
  {
   "cell_type": "code",
   "execution_count": 46,
   "id": "d411834a",
   "metadata": {},
   "outputs": [
    {
     "name": "stdout",
     "output_type": "stream",
     "text": [
      "{'ids': 10, 'salary': 20, 'name': 'hello'}\n"
     ]
    }
   ],
   "source": [
    "# keyword variable length argument\n",
    "def func(**kwargs):\n",
    "    print(kwargs)\n",
    "    \n",
    "func(ids=10,salary=20,name=\"hello\")"
   ]
  },
  {
   "cell_type": "code",
   "execution_count": 47,
   "id": "459be00d",
   "metadata": {},
   "outputs": [],
   "source": [
    "# 2 take the lcm of two number\n",
    "#  least common multiple\n",
    "# 2,7  => greater 7 or more than 7\n",
    "# 2,6\n",
    "# greater number\n",
    "# 1 st number & 2nd number  => lcm\n",
    "# 1 se increase\n",
    "\n"
   ]
  },
  {
   "cell_type": "code",
   "execution_count": 8,
   "id": "5197c52e",
   "metadata": {},
   "outputs": [],
   "source": [
    "def lcmnumber(num1, num2):\n",
    "    if(num1>num2):\n",
    "        great=num1\n",
    "    else:\n",
    "        great=num2\n",
    "    \n",
    "    while(True):\n",
    "        if(great %num1==0 and great %num2==0):\n",
    "            print(\"LCM is\",great)\n",
    "            break\n",
    "            \n",
    "        else:\n",
    "            great+=1"
   ]
  },
  {
   "cell_type": "code",
   "execution_count": 9,
   "id": "7bec55c4",
   "metadata": {
    "scrolled": false
   },
   "outputs": [
    {
     "name": "stdout",
     "output_type": "stream",
     "text": [
      "LCM is 8\n"
     ]
    }
   ],
   "source": [
    "lcmnumber(2,8)"
   ]
  },
  {
   "cell_type": "code",
   "execution_count": 20,
   "id": "0abe61cf",
   "metadata": {},
   "outputs": [],
   "source": [
    "def func(num):\n",
    "    return \"hello\""
   ]
  },
  {
   "cell_type": "code",
   "execution_count": 21,
   "id": "531815a4",
   "metadata": {},
   "outputs": [
    {
     "name": "stdout",
     "output_type": "stream",
     "text": [
      "hello\n"
     ]
    }
   ],
   "source": [
    "x=func(10)\n",
    "\n",
    "#  x=15\n",
    "\n",
    "print(x)"
   ]
  },
  {
   "cell_type": "code",
   "execution_count": 27,
   "id": "2a2e37e0",
   "metadata": {},
   "outputs": [
    {
     "name": "stdout",
     "output_type": "stream",
     "text": [
      "100\n",
      "400\n"
     ]
    }
   ],
   "source": [
    "def func(x):\n",
    "    return x**2\n",
    "for i in [10,20]:\n",
    "    print( func(i) )"
   ]
  },
  {
   "cell_type": "code",
   "execution_count": 25,
   "id": "510579f0",
   "metadata": {},
   "outputs": [
    {
     "data": {
      "text/plain": [
       "64"
      ]
     },
     "execution_count": 25,
     "metadata": {},
     "output_type": "execute_result"
    }
   ],
   "source": [
    "# lambda functions -one line function, annonymous function\n",
    "# lambda argument : expression\n",
    "\n",
    "out=lambda x : x**2\n",
    "out(8)"
   ]
  },
  {
   "cell_type": "code",
   "execution_count": 28,
   "id": "9e86c8c6",
   "metadata": {},
   "outputs": [],
   "source": [
    "#  map functions => map( funct, valuedata)\n",
    "#  1 element => function => return"
   ]
  },
  {
   "cell_type": "code",
   "execution_count": 31,
   "id": "8a29c367",
   "metadata": {},
   "outputs": [
    {
     "data": {
      "text/plain": [
       "[100, 400]"
      ]
     },
     "execution_count": 31,
     "metadata": {},
     "output_type": "execute_result"
    }
   ],
   "source": [
    "def func(x):\n",
    "    return x**2\n",
    "\n",
    "mylist=[10,20]\n",
    "\n",
    "# list ( map(func, mylist) )\n",
    "list ( map(lambda x: x**2, mylist) )\n",
    "\n",
    "# FILTER AND REDUCE\n",
    "#  RETURN KEYWORD\n",
    "#  ARGS AND KWARGS\n",
    "#  FUNCTION VS LAMBDA FUNCTION\n"
   ]
  }
 ],
 "metadata": {
  "kernelspec": {
   "display_name": "Python 3 (ipykernel)",
   "language": "python",
   "name": "python3"
  },
  "language_info": {
   "codemirror_mode": {
    "name": "ipython",
    "version": 3
   },
   "file_extension": ".py",
   "mimetype": "text/x-python",
   "name": "python",
   "nbconvert_exporter": "python",
   "pygments_lexer": "ipython3",
   "version": "3.10.11"
  }
 },
 "nbformat": 4,
 "nbformat_minor": 5
}
