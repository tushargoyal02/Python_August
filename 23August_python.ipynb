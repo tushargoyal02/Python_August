{
 "cells": [
  {
   "cell_type": "code",
   "execution_count": 4,
   "id": "08a3720f",
   "metadata": {},
   "outputs": [
    {
     "name": "stdout",
     "output_type": "stream",
     "text": [
      "2393731581200 2393731584816\n"
     ]
    }
   ],
   "source": [
    "x=500\n",
    "y=500\n",
    "print(id(x), id(y))"
   ]
  },
  {
   "cell_type": "code",
   "execution_count": 7,
   "id": "86eb8dd1",
   "metadata": {},
   "outputs": [
    {
     "data": {
      "text/plain": [
       "True"
      ]
     },
     "execution_count": 7,
     "metadata": {},
     "output_type": "execute_result"
    }
   ],
   "source": [
    "y== x"
   ]
  },
  {
   "cell_type": "code",
   "execution_count": 8,
   "id": "d2377409",
   "metadata": {},
   "outputs": [],
   "source": [
    "# slicing and indexing"
   ]
  },
  {
   "cell_type": "code",
   "execution_count": 9,
   "id": "ba399a43",
   "metadata": {},
   "outputs": [],
   "source": [
    "# RAJASTHAN\n",
    "# STRING : COLLECTION OF CHARACTER STORED IN \n",
    "# CONTINOUS SEQUENTIAL ORDER OF CHARACTERS\n",
    "\n",
    "\n",
    "\n"
   ]
  },
  {
   "cell_type": "code",
   "execution_count": 10,
   "id": "79e5f06e",
   "metadata": {},
   "outputs": [],
   "source": [
    "city=\"RAJASTHAN\""
   ]
  },
  {
   "cell_type": "code",
   "execution_count": 12,
   "id": "949d3b45",
   "metadata": {},
   "outputs": [
    {
     "data": {
      "text/plain": [
       "'R'"
      ]
     },
     "execution_count": 12,
     "metadata": {},
     "output_type": "execute_result"
    }
   ],
   "source": [
    "city[0]"
   ]
  },
  {
   "cell_type": "code",
   "execution_count": 13,
   "id": "b080d8d3",
   "metadata": {},
   "outputs": [
    {
     "data": {
      "text/plain": [
       "'N'"
      ]
     },
     "execution_count": 13,
     "metadata": {},
     "output_type": "execute_result"
    }
   ],
   "source": [
    "city=\"RAJASTHAN\"\n",
    "city[-1]"
   ]
  },
  {
   "cell_type": "code",
   "execution_count": 15,
   "id": "3c6f709a",
   "metadata": {},
   "outputs": [
    {
     "data": {
      "text/plain": [
       "'T'"
      ]
     },
     "execution_count": 15,
     "metadata": {},
     "output_type": "execute_result"
    }
   ],
   "source": [
    "city=\"RAJASTHAN\"\n",
    "city[-4]"
   ]
  },
  {
   "cell_type": "code",
   "execution_count": 18,
   "id": "a8584601",
   "metadata": {},
   "outputs": [
    {
     "data": {
      "text/plain": [
       "'RAJA'"
      ]
     },
     "execution_count": 18,
     "metadata": {},
     "output_type": "execute_result"
    }
   ],
   "source": [
    "# cake => cut slice\n",
    "#  slicing operator\n",
    "#  variable[ start : stop : step=1]   => stopping is exclusive\n",
    "\n",
    "city=\"RAJASTHAN\"\n",
    "city[0:4]"
   ]
  },
  {
   "cell_type": "code",
   "execution_count": 20,
   "id": "edb99121",
   "metadata": {},
   "outputs": [
    {
     "data": {
      "text/plain": [
       "'RAJ'"
      ]
     },
     "execution_count": 20,
     "metadata": {},
     "output_type": "execute_result"
    }
   ],
   "source": [
    "city=\"RAJASTHAN\"\n",
    "city[0:3]"
   ]
  },
  {
   "cell_type": "code",
   "execution_count": 22,
   "id": "7d1f1cc3",
   "metadata": {},
   "outputs": [
    {
     "data": {
      "text/plain": [
       "'AJA'"
      ]
     },
     "execution_count": 22,
     "metadata": {},
     "output_type": "execute_result"
    }
   ],
   "source": [
    "city=\"RAJASTHAN\"\n",
    "city[1:4]"
   ]
  },
  {
   "cell_type": "code",
   "execution_count": 27,
   "id": "99811943",
   "metadata": {},
   "outputs": [
    {
     "data": {
      "text/plain": [
       "'THAN'"
      ]
     },
     "execution_count": 27,
     "metadata": {},
     "output_type": "execute_result"
    }
   ],
   "source": [
    "# start value\n",
    "city=\"RAJASTHAN\"\n",
    "city[5:]"
   ]
  },
  {
   "cell_type": "code",
   "execution_count": 31,
   "id": "09dd74a2",
   "metadata": {},
   "outputs": [
    {
     "data": {
      "text/plain": [
       "'A'"
      ]
     },
     "execution_count": 31,
     "metadata": {},
     "output_type": "execute_result"
    }
   ],
   "source": [
    "city=\"RAJASTHAN\"\n",
    "city[1:2]"
   ]
  },
  {
   "cell_type": "code",
   "execution_count": 33,
   "id": "1c672ce3",
   "metadata": {},
   "outputs": [
    {
     "data": {
      "text/plain": [
       "'RAJA'"
      ]
     },
     "execution_count": 33,
     "metadata": {},
     "output_type": "execute_result"
    }
   ],
   "source": [
    "city=\"RAJASTHAN\"\n",
    "city[0:4]"
   ]
  },
  {
   "cell_type": "code",
   "execution_count": 37,
   "id": "54eb3143",
   "metadata": {},
   "outputs": [
    {
     "data": {
      "text/plain": [
       "'RJ'"
      ]
     },
     "execution_count": 37,
     "metadata": {},
     "output_type": "execute_result"
    }
   ],
   "source": [
    "city=\"RAJASTHAN\"\n",
    "city[0:4:2]\n",
    "#  0, 1,2,3  => 0 +2 => 2 \n",
    "#  0 +1 => 1+1 => 2+1 => 3"
   ]
  },
  {
   "cell_type": "code",
   "execution_count": 39,
   "id": "0cf1de2e",
   "metadata": {},
   "outputs": [
    {
     "data": {
      "text/plain": [
       "'RAH'"
      ]
     },
     "execution_count": 39,
     "metadata": {},
     "output_type": "execute_result"
    }
   ],
   "source": [
    "city=\"RAJASTHAN\"\n",
    "city[0::3]"
   ]
  },
  {
   "cell_type": "code",
   "execution_count": 40,
   "id": "0f900572",
   "metadata": {},
   "outputs": [
    {
     "data": {
      "text/plain": [
       "'RAJA'"
      ]
     },
     "execution_count": 40,
     "metadata": {},
     "output_type": "execute_result"
    }
   ],
   "source": [
    "city=\"RAJASTHAN\"\n",
    "city[0:4:1]"
   ]
  },
  {
   "cell_type": "code",
   "execution_count": 42,
   "id": "a41fd1a0",
   "metadata": {},
   "outputs": [
    {
     "data": {
      "text/plain": [
       "''"
      ]
     },
     "execution_count": 42,
     "metadata": {},
     "output_type": "execute_result"
    }
   ],
   "source": [
    "city=\"RAJASTHAN\"\n",
    "city[0:4:-1]"
   ]
  },
  {
   "cell_type": "code",
   "execution_count": 45,
   "id": "74b195eb",
   "metadata": {},
   "outputs": [
    {
     "data": {
      "text/plain": [
       "'NAH'"
      ]
     },
     "execution_count": 45,
     "metadata": {},
     "output_type": "execute_result"
    }
   ],
   "source": [
    "city=\"RAJASTHAN\"\n",
    "city[-1:-4:-1]"
   ]
  },
  {
   "cell_type": "code",
   "execution_count": 48,
   "id": "dc1b9744",
   "metadata": {},
   "outputs": [
    {
     "data": {
      "text/plain": [
       "'THA'"
      ]
     },
     "execution_count": 48,
     "metadata": {},
     "output_type": "execute_result"
    }
   ],
   "source": [
    "city=\"RAJASTHAN\"\n",
    "city[-4:-1]"
   ]
  },
  {
   "cell_type": "code",
   "execution_count": 51,
   "id": "32ea3040",
   "metadata": {},
   "outputs": [
    {
     "data": {
      "text/plain": [
       "'AN'"
      ]
     },
     "execution_count": 51,
     "metadata": {},
     "output_type": "execute_result"
    }
   ],
   "source": [
    "city=\"RAJASTHAN\"\n",
    "city[-2::]"
   ]
  },
  {
   "cell_type": "code",
   "execution_count": 53,
   "id": "aca2a064",
   "metadata": {},
   "outputs": [
    {
     "data": {
      "text/plain": [
       "'AHTSAJAR'"
      ]
     },
     "execution_count": 53,
     "metadata": {},
     "output_type": "execute_result"
    }
   ],
   "source": [
    "city=\"RAJASTHAN\"\n",
    "city[-2::-1]\n",
    "\n",
    "#  -2-1 => -3-1=> -4"
   ]
  },
  {
   "cell_type": "code",
   "execution_count": 55,
   "id": "5cfca369",
   "metadata": {},
   "outputs": [
    {
     "data": {
      "text/plain": [
       "'AJAR'"
      ]
     },
     "execution_count": 55,
     "metadata": {},
     "output_type": "execute_result"
    }
   ],
   "source": [
    "city=\"RAJASTHAN\"\n",
    "city[3::-1]"
   ]
  },
  {
   "cell_type": "code",
   "execution_count": 56,
   "id": "322ce342",
   "metadata": {},
   "outputs": [
    {
     "data": {
      "text/plain": [
       "0.5"
      ]
     },
     "execution_count": 56,
     "metadata": {},
     "output_type": "execute_result"
    }
   ],
   "source": [
    "# operators  => top 10 priority order\n",
    "# **\n",
    "#  * / , // , % ( same priority)\n",
    "#  +  -  ( same priority)\n",
    "\n",
    "\n",
    "1/4*2"
   ]
  },
  {
   "cell_type": "code",
   "execution_count": 58,
   "id": "d7ea2bd9",
   "metadata": {},
   "outputs": [
    {
     "name": "stdout",
     "output_type": "stream",
     "text": [
      "my age is 18\n"
     ]
    }
   ],
   "source": [
    "#  conditional statement \n",
    "#  if-else\n",
    "'''\n",
    "if(condition==True):\n",
    "    print()\n",
    "else:\n",
    "    print()    \n",
    "\n",
    "\n",
    "'''\n",
    "print(\"my age is 18\")"
   ]
  },
  {
   "cell_type": "code",
   "execution_count": 59,
   "id": "127f45a5",
   "metadata": {},
   "outputs": [
    {
     "data": {
      "text/plain": [
       "True"
      ]
     },
     "execution_count": 59,
     "metadata": {},
     "output_type": "execute_result"
    }
   ],
   "source": [
    "age=18\n",
    "\n",
    "\n",
    "age>=18"
   ]
  },
  {
   "cell_type": "code",
   "execution_count": 65,
   "id": "65e10f3a",
   "metadata": {},
   "outputs": [
    {
     "name": "stdout",
     "output_type": "stream",
     "text": [
      "Age is not 18\n"
     ]
    }
   ],
   "source": [
    "age=16\n",
    "if(age>=18):\n",
    "    print(\"my age is more than 18\")\n",
    "else:\n",
    "    print(\"Age is not 18\")"
   ]
  },
  {
   "cell_type": "code",
   "execution_count": 69,
   "id": "c84deddc",
   "metadata": {},
   "outputs": [
    {
     "name": "stdout",
     "output_type": "stream",
     "text": [
      "10 <class 'int'>\n"
     ]
    }
   ],
   "source": [
    "x=10\n",
    "if ( type(x) is int):\n",
    "    print(x, type(x))\n",
    "else:\n",
    "    print(\"Value is not int\")"
   ]
  },
  {
   "cell_type": "code",
   "execution_count": 71,
   "id": "d80ef865",
   "metadata": {},
   "outputs": [
    {
     "name": "stdout",
     "output_type": "stream",
     "text": [
      "Age is 18\n",
      "Age is not upto the condition\n"
     ]
    }
   ],
   "source": [
    "age=18\n",
    "if(age==18):\n",
    "    print(\"Age is 18\")\n",
    "else:\n",
    "    print(\"Age is not upto the condition\")\n",
    "    \n",
    "if(age==20):\n",
    "    print('Age is more than 20')\n",
    "else:\n",
    "    print(\"Age is not upto the condition\")"
   ]
  },
  {
   "cell_type": "code",
   "execution_count": 74,
   "id": "cd0121ba",
   "metadata": {},
   "outputs": [
    {
     "name": "stdout",
     "output_type": "stream",
     "text": [
      "Age is not upto the condition\n"
     ]
    }
   ],
   "source": [
    "age=22\n",
    "if(age==18):\n",
    "    print(\"Age is 18\")    \n",
    "elif(age==20):\n",
    "    print('Age is more than 20')\n",
    "else:\n",
    "    print(\"Age is not upto the condition\")"
   ]
  },
  {
   "cell_type": "code",
   "execution_count": 76,
   "id": "b8e4caae",
   "metadata": {},
   "outputs": [],
   "source": [
    "#  a=20\n",
    "# b=10\n",
    "# a<b\n",
    "# a,b,c"
   ]
  },
  {
   "cell_type": "code",
   "execution_count": 81,
   "id": "7a6544b9",
   "metadata": {},
   "outputs": [
    {
     "name": "stdout",
     "output_type": "stream",
     "text": [
      "Enter a number:22\n",
      "22\n",
      "<class 'int'>\n"
     ]
    }
   ],
   "source": [
    "x=input(\"Enter a number:\")\n",
    "x=int(x)\n",
    "print(x)\n",
    "\n",
    "print(type(x))"
   ]
  },
  {
   "cell_type": "code",
   "execution_count": null,
   "id": "b6de0ef9",
   "metadata": {},
   "outputs": [],
   "source": [
    "# 10 priority order\n",
    "# Life scope of the variable\n",
    "# UTF 8 and utf16 difference"
   ]
  }
 ],
 "metadata": {
  "kernelspec": {
   "display_name": "Python 3 (ipykernel)",
   "language": "python",
   "name": "python3"
  },
  "language_info": {
   "codemirror_mode": {
    "name": "ipython",
    "version": 3
   },
   "file_extension": ".py",
   "mimetype": "text/x-python",
   "name": "python",
   "nbconvert_exporter": "python",
   "pygments_lexer": "ipython3",
   "version": "3.10.11"
  }
 },
 "nbformat": 4,
 "nbformat_minor": 5
}
