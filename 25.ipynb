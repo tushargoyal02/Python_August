{
 "cells": [
  {
   "cell_type": "code",
   "execution_count": 4,
   "id": "a763f2a9",
   "metadata": {},
   "outputs": [
    {
     "name": "stdout",
     "output_type": "stream",
     "text": [
      "hello\n",
      "10 user\n",
      "11 user\n",
      "12 user\n",
      "hello\n",
      "10 user\n",
      "11 user\n",
      "12 user\n",
      "hello\n",
      "10 user\n",
      "11 user\n",
      "12 user\n"
     ]
    }
   ],
   "source": [
    "# nested loops\n",
    "\n",
    "for i in range(1,4):\n",
    "    print(\"hello\")\n",
    "    \n",
    "    for j in range(10,13):\n",
    "        print(j, \"user\")\n",
    "    "
   ]
  },
  {
   "cell_type": "code",
   "execution_count": 9,
   "id": "928b87df",
   "metadata": {},
   "outputs": [
    {
     "name": "stdout",
     "output_type": "stream",
     "text": [
      "hell\n"
     ]
    }
   ],
   "source": [
    "for i in range(1,2):\n",
    "    print(\"hell\")"
   ]
  },
  {
   "cell_type": "code",
   "execution_count": 19,
   "id": "0da4f23c",
   "metadata": {},
   "outputs": [
    {
     "name": "stdout",
     "output_type": "stream",
     "text": [
      "*\n",
      "**\n",
      "***\n"
     ]
    }
   ],
   "source": [
    "for outerValue in range(1,4):\n",
    "\n",
    "    for innerValue in range(1,outerValue+1):\n",
    "        print(\"*\",end=\"\")\n",
    "    \n",
    "    print(\"\")"
   ]
  },
  {
   "cell_type": "code",
   "execution_count": 22,
   "id": "3f1929fa",
   "metadata": {},
   "outputs": [
    {
     "name": "stdout",
     "output_type": "stream",
     "text": [
      "****\n",
      "***\n",
      "**\n",
      "*\n"
     ]
    }
   ],
   "source": [
    "for outerValue in range(1,5):\n",
    "\n",
    "    for innerValue in range(4,outerValue-1,-1):\n",
    "        print(\"*\",end=\"\")\n",
    "    \n",
    "    print(\"\")"
   ]
  },
  {
   "cell_type": "code",
   "execution_count": 23,
   "id": "5dc8e71a",
   "metadata": {},
   "outputs": [
    {
     "name": "stdout",
     "output_type": "stream",
     "text": [
      "* hello\n"
     ]
    }
   ],
   "source": [
    "print(\"*\",end=\" \")\n",
    "print(\"hello\")"
   ]
  },
  {
   "cell_type": "code",
   "execution_count": 24,
   "id": "fc9675f0",
   "metadata": {},
   "outputs": [
    {
     "data": {
      "text/plain": [
       "'\\nPattern\\n\\n1\\n12\\n123\\n1234\\n\\nA\\nAB\\nABC\\n\\n1\\n23\\n456\\n\\nA\\nBC\\nDEF\\nGHIJ\\n\\n****\\n ***\\n  **\\n   *\\n\\nQ1 Write a program to identify the input given by user satify\\nthe following conditions\\n- input should have a capital letter from A to Z\\n- input should have a small letter from r to z\\n-input should have a number \\n- and it should have a minium of 6 to 15 character\\n- and it should have any character from @, #, $\\n- it all condition is satisfy then print password is correct\\notherwise print password is incorrect\\n\\n\\n'"
      ]
     },
     "execution_count": 24,
     "metadata": {},
     "output_type": "execute_result"
    }
   ],
   "source": [
    "'''\n",
    "Pattern\n",
    "\n",
    "1\n",
    "12\n",
    "123\n",
    "1234\n",
    "\n",
    "A\n",
    "AB\n",
    "ABC\n",
    "\n",
    "1\n",
    "23\n",
    "456\n",
    "\n",
    "A\n",
    "BC\n",
    "DEF\n",
    "GHIJ\n",
    "\n",
    "****\n",
    " ***\n",
    "  **\n",
    "   *\n",
    "\n",
    "Q1 Write a program to identify the input given by user satify\n",
    "the following conditions\n",
    "- input should have a capital letter from A to Z\n",
    "- input should have a small letter from r to z\n",
    "-input should have a number \n",
    "- and it should have a minium of 6 to 15 character\n",
    "- and it should have any character from @, #, $\n",
    "- it all condition is satisfy then print password is correct\n",
    "otherwise print password is incorrect\n",
    "\n",
    "\n",
    "'''"
   ]
  },
  {
   "cell_type": "code",
   "execution_count": 25,
   "id": "6b3db4a7",
   "metadata": {},
   "outputs": [],
   "source": [
    "# list : data type,\n",
    "#  collect multiple data element\n",
    "#  and data can be of different type\n",
    "# index position , and it is mutuable"
   ]
  },
  {
   "cell_type": "code",
   "execution_count": 28,
   "id": "98bb1216",
   "metadata": {},
   "outputs": [
    {
     "name": "stdout",
     "output_type": "stream",
     "text": [
      "<class 'list'>\n"
     ]
    }
   ],
   "source": [
    "mylist=[19,30,\"hey\"]\n",
    "print(type(mylist))"
   ]
  },
  {
   "cell_type": "code",
   "execution_count": 31,
   "id": "4ede80d4",
   "metadata": {},
   "outputs": [
    {
     "name": "stdout",
     "output_type": "stream",
     "text": [
      "[19, 30, 10, 20, 50]\n"
     ]
    }
   ],
   "source": [
    "mylist=[19,30,10,20,50]\n",
    "print(mylist)"
   ]
  },
  {
   "cell_type": "code",
   "execution_count": 33,
   "id": "27567cca",
   "metadata": {},
   "outputs": [
    {
     "name": "stdout",
     "output_type": "stream",
     "text": [
      "50\n"
     ]
    }
   ],
   "source": [
    "mylist=[19,30,10,20,50]\n",
    "print(mylist[-1] )"
   ]
  },
  {
   "cell_type": "code",
   "execution_count": 35,
   "id": "c5fa7888",
   "metadata": {},
   "outputs": [
    {
     "name": "stdout",
     "output_type": "stream",
     "text": [
      "[19, 30, 10, 20]\n"
     ]
    }
   ],
   "source": [
    "mylist=[19,30,10,20,50]\n",
    "print(mylist[0:4] )"
   ]
  },
  {
   "cell_type": "code",
   "execution_count": 37,
   "id": "f83e88f9",
   "metadata": {},
   "outputs": [
    {
     "name": "stdout",
     "output_type": "stream",
     "text": [
      "[200, 30, 10, 20, 50]\n"
     ]
    }
   ],
   "source": [
    "mylist=[19,30,10,20,50]\n",
    "mylist[0] = 200\n",
    "print(mylist )"
   ]
  },
  {
   "cell_type": "code",
   "execution_count": 40,
   "id": "6fa1b384",
   "metadata": {},
   "outputs": [
    {
     "name": "stdout",
     "output_type": "stream",
     "text": [
      "[19, 30, 10, 20, 50, 1000]\n"
     ]
    }
   ],
   "source": [
    "mylist=[19,30,10,20,50]\n",
    "mylist.append(1000)\n",
    "print(mylist )"
   ]
  },
  {
   "cell_type": "code",
   "execution_count": 42,
   "id": "322f16d0",
   "metadata": {},
   "outputs": [
    {
     "name": "stdout",
     "output_type": "stream",
     "text": [
      "[19, 30, 10, 20, 50, 'h', 'i']\n"
     ]
    }
   ],
   "source": [
    "mylist=[19,30,10,20,50]\n",
    "\n",
    "mylist.extend(\"hi\")\n",
    "\n",
    "print(mylist )"
   ]
  },
  {
   "cell_type": "code",
   "execution_count": 44,
   "id": "29241ba7",
   "metadata": {},
   "outputs": [
    {
     "name": "stdout",
     "output_type": "stream",
     "text": [
      "[19, 30, 10, 20, 50, 'hi', 1000]\n"
     ]
    }
   ],
   "source": [
    "mylist=[19,30,10,20,50]\n",
    "\n",
    "mylist.extend( [\"hi\",1000] )\n",
    "\n",
    "print(mylist )"
   ]
  },
  {
   "cell_type": "code",
   "execution_count": 45,
   "id": "010db311",
   "metadata": {},
   "outputs": [
    {
     "name": "stdout",
     "output_type": "stream",
     "text": [
      "[19, 30, 10, 20]\n"
     ]
    }
   ],
   "source": [
    "mylist=[19,30,10,20,50]\n",
    "\n",
    "mylist.pop()\n",
    "\n",
    "print(mylist )"
   ]
  },
  {
   "cell_type": "code",
   "execution_count": 46,
   "id": "a93e711a",
   "metadata": {},
   "outputs": [
    {
     "name": "stdout",
     "output_type": "stream",
     "text": [
      "[30, 10, 20, 50]\n"
     ]
    }
   ],
   "source": [
    "mylist=[19,30,10,20,50]\n",
    "\n",
    "mylist.pop(0)\n",
    "\n",
    "print(mylist )"
   ]
  },
  {
   "cell_type": "code",
   "execution_count": 47,
   "id": "dd7e0c2d",
   "metadata": {},
   "outputs": [
    {
     "name": "stdout",
     "output_type": "stream",
     "text": [
      "[19, 10, 20, 50]\n"
     ]
    }
   ],
   "source": [
    "mylist=[19,30,10,20,50]\n",
    "\n",
    "mylist.remove(30)\n",
    "\n",
    "print(mylist )"
   ]
  },
  {
   "cell_type": "code",
   "execution_count": 49,
   "id": "ff713549",
   "metadata": {},
   "outputs": [
    {
     "name": "stdout",
     "output_type": "stream",
     "text": [
      "[30, 10, 20, 50]\n"
     ]
    }
   ],
   "source": [
    "mylist=[19,30,10,20,50]\n",
    "\n",
    "del mylist[0]\n",
    "\n",
    "print(mylist )"
   ]
  },
  {
   "cell_type": "code",
   "execution_count": 51,
   "id": "29374f43",
   "metadata": {},
   "outputs": [
    {
     "name": "stdout",
     "output_type": "stream",
     "text": [
      "[19, 'hey', 30, 10, 20, 50]\n"
     ]
    }
   ],
   "source": [
    "mylist=[19,30,10,20,50]\n",
    "\n",
    "mylist.insert(1,\"hey\")\n",
    "\n",
    "print(mylist )"
   ]
  },
  {
   "cell_type": "code",
   "execution_count": 54,
   "id": "a3eee028",
   "metadata": {},
   "outputs": [
    {
     "name": "stdout",
     "output_type": "stream",
     "text": [
      "Help on list object:\n",
      "\n",
      "class list(object)\n",
      " |  list(iterable=(), /)\n",
      " |  \n",
      " |  Built-in mutable sequence.\n",
      " |  \n",
      " |  If no argument is given, the constructor creates a new empty list.\n",
      " |  The argument must be an iterable if specified.\n",
      " |  \n",
      " |  Methods defined here:\n",
      " |  \n",
      " |  __add__(self, value, /)\n",
      " |      Return self+value.\n",
      " |  \n",
      " |  __contains__(self, key, /)\n",
      " |      Return key in self.\n",
      " |  \n",
      " |  __delitem__(self, key, /)\n",
      " |      Delete self[key].\n",
      " |  \n",
      " |  __eq__(self, value, /)\n",
      " |      Return self==value.\n",
      " |  \n",
      " |  __ge__(self, value, /)\n",
      " |      Return self>=value.\n",
      " |  \n",
      " |  __getattribute__(self, name, /)\n",
      " |      Return getattr(self, name).\n",
      " |  \n",
      " |  __getitem__(...)\n",
      " |      x.__getitem__(y) <==> x[y]\n",
      " |  \n",
      " |  __gt__(self, value, /)\n",
      " |      Return self>value.\n",
      " |  \n",
      " |  __iadd__(self, value, /)\n",
      " |      Implement self+=value.\n",
      " |  \n",
      " |  __imul__(self, value, /)\n",
      " |      Implement self*=value.\n",
      " |  \n",
      " |  __init__(self, /, *args, **kwargs)\n",
      " |      Initialize self.  See help(type(self)) for accurate signature.\n",
      " |  \n",
      " |  __iter__(self, /)\n",
      " |      Implement iter(self).\n",
      " |  \n",
      " |  __le__(self, value, /)\n",
      " |      Return self<=value.\n",
      " |  \n",
      " |  __len__(self, /)\n",
      " |      Return len(self).\n",
      " |  \n",
      " |  __lt__(self, value, /)\n",
      " |      Return self<value.\n",
      " |  \n",
      " |  __mul__(self, value, /)\n",
      " |      Return self*value.\n",
      " |  \n",
      " |  __ne__(self, value, /)\n",
      " |      Return self!=value.\n",
      " |  \n",
      " |  __repr__(self, /)\n",
      " |      Return repr(self).\n",
      " |  \n",
      " |  __reversed__(self, /)\n",
      " |      Return a reverse iterator over the list.\n",
      " |  \n",
      " |  __rmul__(self, value, /)\n",
      " |      Return value*self.\n",
      " |  \n",
      " |  __setitem__(self, key, value, /)\n",
      " |      Set self[key] to value.\n",
      " |  \n",
      " |  __sizeof__(self, /)\n",
      " |      Return the size of the list in memory, in bytes.\n",
      " |  \n",
      " |  append(self, object, /)\n",
      " |      Append object to the end of the list.\n",
      " |  \n",
      " |  clear(self, /)\n",
      " |      Remove all items from list.\n",
      " |  \n",
      " |  copy(self, /)\n",
      " |      Return a shallow copy of the list.\n",
      " |  \n",
      " |  count(self, value, /)\n",
      " |      Return number of occurrences of value.\n",
      " |  \n",
      " |  extend(self, iterable, /)\n",
      " |      Extend list by appending elements from the iterable.\n",
      " |  \n",
      " |  index(self, value, start=0, stop=9223372036854775807, /)\n",
      " |      Return first index of value.\n",
      " |      \n",
      " |      Raises ValueError if the value is not present.\n",
      " |  \n",
      " |  insert(self, index, object, /)\n",
      " |      Insert object before index.\n",
      " |  \n",
      " |  pop(self, index=-1, /)\n",
      " |      Remove and return item at index (default last).\n",
      " |      \n",
      " |      Raises IndexError if list is empty or index is out of range.\n",
      " |  \n",
      " |  remove(self, value, /)\n",
      " |      Remove first occurrence of value.\n",
      " |      \n",
      " |      Raises ValueError if the value is not present.\n",
      " |  \n",
      " |  reverse(self, /)\n",
      " |      Reverse *IN PLACE*.\n",
      " |  \n",
      " |  sort(self, /, *, key=None, reverse=False)\n",
      " |      Sort the list in ascending order and return None.\n",
      " |      \n",
      " |      The sort is in-place (i.e. the list itself is modified) and stable (i.e. the\n",
      " |      order of two equal elements is maintained).\n",
      " |      \n",
      " |      If a key function is given, apply it once to each list item and sort them,\n",
      " |      ascending or descending, according to their function values.\n",
      " |      \n",
      " |      The reverse flag can be set to sort in descending order.\n",
      " |  \n",
      " |  ----------------------------------------------------------------------\n",
      " |  Class methods defined here:\n",
      " |  \n",
      " |  __class_getitem__(...) from builtins.type\n",
      " |      See PEP 585\n",
      " |  \n",
      " |  ----------------------------------------------------------------------\n",
      " |  Static methods defined here:\n",
      " |  \n",
      " |  __new__(*args, **kwargs) from builtins.type\n",
      " |      Create and return a new object.  See help(type) for accurate signature.\n",
      " |  \n",
      " |  ----------------------------------------------------------------------\n",
      " |  Data and other attributes defined here:\n",
      " |  \n",
      " |  __hash__ = None\n",
      "\n"
     ]
    }
   ],
   "source": [
    "help(mylist)"
   ]
  },
  {
   "cell_type": "code",
   "execution_count": 63,
   "id": "bd7e0899",
   "metadata": {},
   "outputs": [
    {
     "name": "stdout",
     "output_type": "stream",
     "text": [
      "[100, 400, 900]\n"
     ]
    }
   ],
   "source": [
    "mylist=[10,20,30,\"kii\"]\n",
    "li=[]\n",
    "for i in mylist:\n",
    "    if(type(i) == int):\n",
    "        li.append(i**2)\n",
    "        \n",
    "print(li)\n",
    "        "
   ]
  },
  {
   "cell_type": "code",
   "execution_count": 67,
   "id": "13b182f2",
   "metadata": {},
   "outputs": [
    {
     "name": "stdout",
     "output_type": "stream",
     "text": [
      "Palindrome\n"
     ]
    }
   ],
   "source": [
    "# palindrome => SARAS, NAMAN\n",
    "\n",
    "data=\"NAMAN\"\n",
    "if data==data[::-1]:\n",
    "    print(\"Palindrome\")\n",
    "else:\n",
    "    print(\"not\")\n",
    "\n",
    "\n",
    "#     hey hello hey tushar hello\n",
    "#  hey hello tushar"
   ]
  },
  {
   "cell_type": "code",
   "execution_count": 74,
   "id": "d1675c27",
   "metadata": {},
   "outputs": [
    {
     "name": "stdout",
     "output_type": "stream",
     "text": [
      "<class 'tuple'>\n"
     ]
    }
   ],
   "source": [
    "#  tuple : immutable\n",
    "\n",
    "mytuple=10,20\n",
    "print(type(mytuple) )"
   ]
  },
  {
   "cell_type": "code",
   "execution_count": 79,
   "id": "01ac8170",
   "metadata": {},
   "outputs": [
    {
     "ename": "TypeError",
     "evalue": "'tuple' object does not support item assignment",
     "output_type": "error",
     "traceback": [
      "\u001b[1;31m---------------------------------------------------------------------------\u001b[0m",
      "\u001b[1;31mTypeError\u001b[0m                                 Traceback (most recent call last)",
      "Cell \u001b[1;32mIn[79], line 1\u001b[0m\n\u001b[1;32m----> 1\u001b[0m \u001b[43mmytuple\u001b[49m\u001b[43m[\u001b[49m\u001b[38;5;241;43m1\u001b[39;49m\u001b[43m]\u001b[49m\u001b[38;5;241m=\u001b[39m\u001b[38;5;241m990\u001b[39m\n",
      "\u001b[1;31mTypeError\u001b[0m: 'tuple' object does not support item assignment"
     ]
    }
   ],
   "source": [
    "mytuple[1]=990"
   ]
  },
  {
   "cell_type": "code",
   "execution_count": 84,
   "id": "d4b1df65",
   "metadata": {},
   "outputs": [
    {
     "name": "stdout",
     "output_type": "stream",
     "text": [
      "(10, 20, 60, 50)\n",
      "new (10, 20, 60, 50, 60, 50)\n"
     ]
    }
   ],
   "source": [
    "print(mytuple)\n",
    "mytuple= mytuple + (60,50)\n",
    "\n",
    "print(\"new\", mytuple)"
   ]
  },
  {
   "cell_type": "code",
   "execution_count": null,
   "id": "3a88da1a",
   "metadata": {},
   "outputs": [],
   "source": []
  }
 ],
 "metadata": {
  "kernelspec": {
   "display_name": "Python 3 (ipykernel)",
   "language": "python",
   "name": "python3"
  },
  "language_info": {
   "codemirror_mode": {
    "name": "ipython",
    "version": 3
   },
   "file_extension": ".py",
   "mimetype": "text/x-python",
   "name": "python",
   "nbconvert_exporter": "python",
   "pygments_lexer": "ipython3",
   "version": "3.10.11"
  }
 },
 "nbformat": 4,
 "nbformat_minor": 5
}
