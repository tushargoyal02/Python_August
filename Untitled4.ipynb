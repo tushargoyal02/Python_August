{
 "cells": [
  {
   "cell_type": "code",
   "execution_count": 14,
   "id": "bb424bed",
   "metadata": {},
   "outputs": [
    {
     "name": "stdout",
     "output_type": "stream",
     "text": [
      "INFO is 10 tushar tushar@gmail.com\n"
     ]
    }
   ],
   "source": [
    "class Customer:\n",
    "    def __init__(self,id, name, email):\n",
    "        self.id=id\n",
    "        self.name=name\n",
    "        self.email=email\n",
    "    \n",
    "    def info(self):\n",
    "        print(\"INFO is\",self.id, self.name, self.email)\n",
    "           \n",
    "c1=Customer(10,\"tushar\",\"tushar@gmail.com\")\n",
    "c1.info()"
   ]
  },
  {
   "cell_type": "code",
   "execution_count": 24,
   "id": "b868339f",
   "metadata": {},
   "outputs": [
    {
     "name": "stdout",
     "output_type": "stream",
     "text": [
      "INFO is 11 aman aman@gmail.com\n"
     ]
    }
   ],
   "source": [
    "# single level inheritence\n",
    "class Driver(Customer):\n",
    "    def __init__(self,id, name,email,wallet):\n",
    "        super().__init__(id,name,email)\n",
    "        self.wallet=wallet\n",
    "        \n",
    "    def dinfo(self):\n",
    "        super().info()\n",
    "        \n",
    "        \n",
    "d1=Driver(11,\"aman\",\"aman@gmail.com\",100)\n",
    "d1.dinfo()\n",
    "        "
   ]
  },
  {
   "cell_type": "code",
   "execution_count": 10,
   "id": "cfde7b81",
   "metadata": {},
   "outputs": [
    {
     "data": {
      "text/plain": [
       "50"
      ]
     },
     "execution_count": 10,
     "metadata": {},
     "output_type": "execute_result"
    }
   ],
   "source": [
    "class Father:\n",
    "    amount=100\n",
    "    \n",
    "\n",
    "class Son(Father):\n",
    "    salary=50\n",
    "\n",
    "s1=Son()\n",
    "s1.amount\n",
    "s1.salary"
   ]
  },
  {
   "cell_type": "code",
   "execution_count": 26,
   "id": "63ef8926",
   "metadata": {},
   "outputs": [
    {
     "data": {
      "text/plain": [
       "30"
      ]
     },
     "execution_count": 26,
     "metadata": {},
     "output_type": "execute_result"
    }
   ],
   "source": [
    "# polymoprhism\n",
    "10+20"
   ]
  },
  {
   "cell_type": "code",
   "execution_count": 27,
   "id": "f46db294",
   "metadata": {},
   "outputs": [
    {
     "data": {
      "text/plain": [
       "'kl'"
      ]
     },
     "execution_count": 27,
     "metadata": {},
     "output_type": "execute_result"
    }
   ],
   "source": [
    "\"k\"+\"l\""
   ]
  },
  {
   "cell_type": "code",
   "execution_count": 30,
   "id": "4a015f04",
   "metadata": {},
   "outputs": [
    {
     "name": "stdout",
     "output_type": "stream",
     "text": [
      "my legs is 8\n"
     ]
    }
   ],
   "source": [
    "#  method overloading and method overidding\n",
    "class Animal:\n",
    "    def totalLegs(self):\n",
    "        print(\"my legs is 8\")\n",
    "        \n",
    "a1=Animal()\n",
    "a1.totalLegs()"
   ]
  },
  {
   "cell_type": "code",
   "execution_count": 32,
   "id": "2c499486",
   "metadata": {},
   "outputs": [
    {
     "name": "stdout",
     "output_type": "stream",
     "text": [
      "my legs is 4\n"
     ]
    }
   ],
   "source": [
    "class Dog(Animal):\n",
    "    name=\"ABC\"\n",
    "    def totalLegs(self):\n",
    "        print(\"my legs is 4\")\n",
    "        \n",
    "d1=Dog()\n",
    "d1.totalLegs()\n"
   ]
  },
  {
   "cell_type": "code",
   "execution_count": 38,
   "id": "7c4ba51c",
   "metadata": {},
   "outputs": [
    {
     "name": "stdout",
     "output_type": "stream",
     "text": [
      "2 constructor\n"
     ]
    },
    {
     "data": {
      "text/plain": [
       "<__main__.Hello at 0x1b7e9581b10>"
      ]
     },
     "execution_count": 38,
     "metadata": {},
     "output_type": "execute_result"
    }
   ],
   "source": [
    "class Hello:\n",
    "    def __init__(self,num1):\n",
    "        print(\"1 constructor\")\n",
    "        \n",
    "    def __init__(self):\n",
    "        print(\"2 constructor\")\n",
    "        \n",
    "Hello()"
   ]
  },
  {
   "cell_type": "code",
   "execution_count": 39,
   "id": "f4af5d1d",
   "metadata": {},
   "outputs": [],
   "source": [
    "# encapsulation \n",
    "#  data and method => class\n",
    "#  taaki restriction / accessibility\n",
    "\n",
    "#  access modifier : public, private, protected, default\n",
    "# symbol notation"
   ]
  },
  {
   "cell_type": "code",
   "execution_count": 47,
   "id": "29519887",
   "metadata": {},
   "outputs": [
    {
     "data": {
      "text/plain": [
       "100"
      ]
     },
     "execution_count": 47,
     "metadata": {},
     "output_type": "execute_result"
    }
   ],
   "source": [
    "class Vehcile:\n",
    "    \n",
    "    # protected   __ => private\n",
    "    # _class__variable    _Vehcile__salary\n",
    "    __salary=100\n",
    "    \n",
    "\n",
    "class Tatamotor(Vehcile):\n",
    "    name=\"Harrier\"\n",
    "\n",
    "# v1=Vehcile()\n",
    "# v1._Vehcile__salary\n",
    "    \n",
    "t1=Tatamotor()\n",
    "t1._Vehcile__salary\n"
   ]
  }
 ],
 "metadata": {
  "kernelspec": {
   "display_name": "Python 3 (ipykernel)",
   "language": "python",
   "name": "python3"
  },
  "language_info": {
   "codemirror_mode": {
    "name": "ipython",
    "version": 3
   },
   "file_extension": ".py",
   "mimetype": "text/x-python",
   "name": "python",
   "nbconvert_exporter": "python",
   "pygments_lexer": "ipython3",
   "version": "3.10.11"
  }
 },
 "nbformat": 4,
 "nbformat_minor": 5
}
