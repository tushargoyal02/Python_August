{
 "cells": [
  {
   "cell_type": "code",
   "execution_count": 15,
   "id": "7f777750",
   "metadata": {},
   "outputs": [],
   "source": [
    "class Student_Register:\n",
    "    sid=10\n",
    "    sName=\"tushar\"\n",
    "    \n",
    "    def register(self):\n",
    "        print(\"hello student is register\")"
   ]
  },
  {
   "cell_type": "code",
   "execution_count": 16,
   "id": "f9350db3",
   "metadata": {},
   "outputs": [
    {
     "name": "stdout",
     "output_type": "stream",
     "text": [
      "10\n",
      "hello student is register\n"
     ]
    }
   ],
   "source": [
    "s2=Student_Register()\n",
    "print(s2.sid)\n",
    "s2.register()"
   ]
  },
  {
   "cell_type": "code",
   "execution_count": 8,
   "id": "ec1bd673",
   "metadata": {},
   "outputs": [
    {
     "name": "stdout",
     "output_type": "stream",
     "text": [
      "10 tushar\n"
     ]
    }
   ],
   "source": [
    "s2=Student_Register()\n",
    "print(s2.sid, s2.sName)"
   ]
  },
  {
   "cell_type": "code",
   "execution_count": 3,
   "id": "2a0f7a7b",
   "metadata": {},
   "outputs": [],
   "source": [
    "#  class object = new  class()\n",
    "\n",
    "#obj = class()\n",
    "s1=Student_Register()"
   ]
  },
  {
   "cell_type": "code",
   "execution_count": 17,
   "id": "460a338f",
   "metadata": {},
   "outputs": [
    {
     "name": "stdout",
     "output_type": "stream",
     "text": [
      "10 tushar\n"
     ]
    }
   ],
   "source": [
    "print(s1.sid, s1.sName)"
   ]
  },
  {
   "cell_type": "code",
   "execution_count": 18,
   "id": "3c916e8e",
   "metadata": {},
   "outputs": [
    {
     "name": "stdout",
     "output_type": "stream",
     "text": [
      "jaipur\n"
     ]
    }
   ],
   "source": [
    "class house:\n",
    "        address=\"jaipur\"\n",
    "        street=\"ABC\"\n",
    "        \n",
    "h1=house()\n",
    "print(h1.address)"
   ]
  },
  {
   "cell_type": "code",
   "execution_count": 20,
   "id": "6e71f290",
   "metadata": {},
   "outputs": [
    {
     "name": "stdout",
     "output_type": "stream",
     "text": [
      "jaipur ABC\n"
     ]
    }
   ],
   "source": [
    "h2=house()\n",
    "print(h2.address, h2.street)"
   ]
  },
  {
   "cell_type": "code",
   "execution_count": 31,
   "id": "b16ec6a8",
   "metadata": {},
   "outputs": [
    {
     "name": "stdout",
     "output_type": "stream",
     "text": [
      "hey user 10\n",
      "<__main__.StudentRegister object at 0x000001C5413E7040>\n"
     ]
    }
   ],
   "source": [
    "# s1 => sid    s2=> sid\n",
    "#  constructor - method => which will initialize the \n",
    "#  memory for the object\n",
    "\n",
    "class StudentRegister:\n",
    "    def __init__(self, num):\n",
    "        print(\"hey user\",num)\n",
    "        \n",
    "s1=StudentRegister(10)\n",
    "print(s1)"
   ]
  },
  {
   "cell_type": "code",
   "execution_count": 41,
   "id": "eba0cc2d",
   "metadata": {},
   "outputs": [
    {
     "name": "stdout",
     "output_type": "stream",
     "text": [
      "10 tushar\n"
     ]
    }
   ],
   "source": [
    "class StudentRegister:\n",
    "    def __init__(self, id, name):\n",
    "        self.eid=id\n",
    "        self.ename=name\n",
    "    \n",
    "    def studentInfo(self):\n",
    "        print(self.eid, self.ename)\n",
    "        \n",
    "s1=StudentRegister(10,\"tushar\")\n",
    "\n",
    "s1.studentInfo()\n"
   ]
  },
  {
   "cell_type": "code",
   "execution_count": 42,
   "id": "2a11413e",
   "metadata": {},
   "outputs": [
    {
     "data": {
      "text/plain": [
       "15"
      ]
     },
     "execution_count": 42,
     "metadata": {},
     "output_type": "execute_result"
    }
   ],
   "source": [
    "std2.sid"
   ]
  },
  {
   "cell_type": "code",
   "execution_count": 43,
   "id": "b06f96ba",
   "metadata": {},
   "outputs": [],
   "source": [
    "#  Uber application , Driver, cistomer\n",
    "#  d_id, name, email\n",
    "#  customer_id, name, email, wallet\n",
    "\n",
    "#  100 cr\n",
    "#  as child => 100 cr\n",
    "\n",
    "#  father => 4 cr ( parent class / superclass)\n",
    "#  child => 4 cr + 1-2 cr  ( inheritance)  (child class, subclass, derived class)\n",
    "\n"
   ]
  },
  {
   "cell_type": "code",
   "execution_count": 62,
   "id": "02b48571",
   "metadata": {},
   "outputs": [],
   "source": [
    "class Driver:\n",
    "    def __init__(self,id, name, email):\n",
    "        self.id=id\n",
    "        self.name=name\n",
    "        self.email=email\n",
    "    \n",
    "    def info(self):\n",
    "        print(\"Info is :\",self.id,self.name, self.email)"
   ]
  },
  {
   "cell_type": "code",
   "execution_count": 68,
   "id": "5b448fb2",
   "metadata": {},
   "outputs": [
    {
     "data": {
      "text/plain": [
       "990"
      ]
     },
     "execution_count": 68,
     "metadata": {},
     "output_type": "execute_result"
    }
   ],
   "source": [
    "class Employee2(Driver):\n",
    "    def __init__(self,eid, ename, e_email,wallet):\n",
    "        super().__init__(eid, ename, e_email)\n",
    "        self.wallet=wallet\n",
    "\n",
    "e1=Employee2(99,\"aditya\", \"aditya@gmail.com\",990)\n",
    "e1.wallet"
   ]
  },
  {
   "cell_type": "code",
   "execution_count": 50,
   "id": "facbe937",
   "metadata": {},
   "outputs": [
    {
     "name": "stdout",
     "output_type": "stream",
     "text": [
      "Info is : 11 aman aman@gmail.com\n"
     ]
    }
   ],
   "source": [
    "d1.info()"
   ]
  }
 ],
 "metadata": {
  "kernelspec": {
   "display_name": "Python 3 (ipykernel)",
   "language": "python",
   "name": "python3"
  },
  "language_info": {
   "codemirror_mode": {
    "name": "ipython",
    "version": 3
   },
   "file_extension": ".py",
   "mimetype": "text/x-python",
   "name": "python",
   "nbconvert_exporter": "python",
   "pygments_lexer": "ipython3",
   "version": "3.10.11"
  }
 },
 "nbformat": 4,
 "nbformat_minor": 5
}
