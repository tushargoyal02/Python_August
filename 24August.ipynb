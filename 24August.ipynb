{
 "cells": [
  {
   "cell_type": "code",
   "execution_count": 6,
   "id": "a7da6549",
   "metadata": {},
   "outputs": [
    {
     "name": "stdout",
     "output_type": "stream",
     "text": [
      "22\n"
     ]
    }
   ],
   "source": [
    "x=int( input())\n",
    "\n",
    "if(x==1):\n",
    "    print(1.4*12)"
   ]
  },
  {
   "cell_type": "code",
   "execution_count": 7,
   "id": "e24ec11a",
   "metadata": {},
   "outputs": [],
   "source": [
    "# loop => ek task repetively\n",
    "\n",
    "# for loop  => jo kisi values ke chalega\n",
    "#  for while do while\n",
    "\n",
    "#  number of iteration\n",
    "\n"
   ]
  },
  {
   "cell_type": "code",
   "execution_count": 9,
   "id": "1f917d4a",
   "metadata": {},
   "outputs": [
    {
     "name": "stdout",
     "output_type": "stream",
     "text": [
      "0\n",
      "1\n",
      "2\n",
      "3\n",
      "4\n"
     ]
    }
   ],
   "source": [
    "#  for with range\n",
    "# range( start,  stoping, step=1 )\n",
    "\n",
    "# for(i=0 ;i<10, i++){ \n",
    "#     print(i) }\n",
    "\n",
    "for i in range(0,5):\n",
    "    print(i)"
   ]
  },
  {
   "cell_type": "code",
   "execution_count": 11,
   "id": "5197f47d",
   "metadata": {},
   "outputs": [
    {
     "name": "stdout",
     "output_type": "stream",
     "text": [
      "0\n",
      "1\n",
      "2\n",
      "3\n",
      "4\n"
     ]
    }
   ],
   "source": [
    "#  var[0:5:1]\n",
    "for i in range(0,5,1):\n",
    "    print(i)"
   ]
  },
  {
   "cell_type": "code",
   "execution_count": 14,
   "id": "af191dbf",
   "metadata": {},
   "outputs": [
    {
     "name": "stdout",
     "output_type": "stream",
     "text": [
      "5\n",
      "4\n",
      "3\n",
      "2\n"
     ]
    }
   ],
   "source": [
    "for i in range(5,1,-1):\n",
    "    print(i)"
   ]
  },
  {
   "cell_type": "code",
   "execution_count": 17,
   "id": "67db2587",
   "metadata": {},
   "outputs": [
    {
     "name": "stdout",
     "output_type": "stream",
     "text": [
      "h\n",
      "e\n",
      "y\n"
     ]
    }
   ],
   "source": [
    "for i in \"hey\":\n",
    "    print(i)\n",
    "    \n",
    "# dir(\"hey\")    => __iter__ method"
   ]
  },
  {
   "cell_type": "code",
   "execution_count": 20,
   "id": "d952d964",
   "metadata": {},
   "outputs": [
    {
     "data": {
      "text/plain": [
       "5"
      ]
     },
     "execution_count": 20,
     "metadata": {},
     "output_type": "execute_result"
    }
   ],
   "source": [
    "x=\"hey12\"\n",
    "len(x)"
   ]
  },
  {
   "cell_type": "code",
   "execution_count": 26,
   "id": "eb78d73b",
   "metadata": {},
   "outputs": [
    {
     "name": "stdout",
     "output_type": "stream",
     "text": [
      "0 h\n",
      "1 e\n",
      "2 y\n",
      "3 1\n",
      "4 2\n"
     ]
    }
   ],
   "source": [
    "x=\"hey12\"\n",
    "count=len(x)\n",
    "for i in range(0, len(x) ):\n",
    "    print(i, x[i])"
   ]
  },
  {
   "cell_type": "code",
   "execution_count": 32,
   "id": "04d231e9",
   "metadata": {},
   "outputs": [
    {
     "name": "stdout",
     "output_type": "stream",
     "text": [
      "0\n",
      "2\n",
      "4\n",
      "6\n",
      "8\n",
      "10\n"
     ]
    }
   ],
   "source": [
    "for num in range(0,11):\n",
    "    if(num%2==0):   \n",
    "        print(num)"
   ]
  },
  {
   "cell_type": "code",
   "execution_count": 37,
   "id": "6dab0f06",
   "metadata": {},
   "outputs": [
    {
     "name": "stdout",
     "output_type": "stream",
     "text": [
      "a We have a vowerl\n"
     ]
    }
   ],
   "source": [
    "x=\"jkalsdhf\"\n",
    "for i in x:\n",
    "    if( i in \"aeiou\"):\n",
    "        print(i,\"We have a vowerl\")\n",
    "   \n"
   ]
  },
  {
   "cell_type": "code",
   "execution_count": 39,
   "id": "b1f06f76",
   "metadata": {},
   "outputs": [
    {
     "data": {
      "text/plain": [
       "'\\nQ1 Take a input from the user and find oout how many total \\nvowels are present\\n\\nQ2 Take a input from the user and find out how many individual \\nvowels are present\\n\\nQ3 Take a input from the user and find whether \"a and e\" are \\nboth present in the string or not\\n\\nQ4 Take three ( length, breath, height) value as input from the user and find out\\n- if user provide 1 => area of triangle\\n- if 2 => area of square\\n- 3 => area of rectangle\\n- 4 => take input and find area of a circle\\n\\n\\n\\n\\n\\n \\n\\n'"
      ]
     },
     "execution_count": 39,
     "metadata": {},
     "output_type": "execute_result"
    }
   ],
   "source": [
    "'''\n",
    "Q1 Take a input from the user and find oout how many total \n",
    "vowels are present\n",
    "\n",
    "Q2 Take a input from the user and find out how many individual \n",
    "vowels are present\n",
    "\n",
    "Q3 Take a input from the user and find whether \"a and e\" are \n",
    "both present in the string or not\n",
    "\n",
    "Q4 Take three ( length, breath, height) value as input from the user and find out\n",
    "- if user provide 1 => area of triangle\n",
    "- if 2 => area of square\n",
    "- 3 => area of rectangle\n",
    "- 4 => take input and find area of a circle\n",
    "\n",
    "\n",
    "\n",
    "\n",
    "\n",
    " \n",
    "\n",
    "'''"
   ]
  },
  {
   "cell_type": "code",
   "execution_count": 41,
   "id": "61fdc73c",
   "metadata": {},
   "outputs": [
    {
     "name": "stdout",
     "output_type": "stream",
     "text": [
      "0\n",
      "1\n",
      "2\n",
      "3\n",
      "4\n",
      "5\n",
      "6\n",
      "7\n",
      "8\n",
      "9\n"
     ]
    }
   ],
   "source": [
    "# for i in range(0,10):\n",
    "#     print(i)\n",
    "\n",
    "index=0\n",
    "while(index<10):\n",
    "    print(index)\n",
    "    index = index+1\n",
    "    "
   ]
  },
  {
   "cell_type": "code",
   "execution_count": 43,
   "id": "693a2e06",
   "metadata": {},
   "outputs": [
    {
     "name": "stdout",
     "output_type": "stream",
     "text": [
      "0 h\n",
      "1 e\n",
      "2 y\n"
     ]
    }
   ],
   "source": [
    "# x=\"hey12\"\n",
    "# for i in range(0, len(x) ):\n",
    "#     print(i, x[i])\n",
    "\n",
    "x=\"hey\"\n",
    "index=0\n",
    "\n",
    "while(index < len(x)):\n",
    "    print(index, x[index])\n",
    "    index+=1\n"
   ]
  }
 ],
 "metadata": {
  "kernelspec": {
   "display_name": "Python 3 (ipykernel)",
   "language": "python",
   "name": "python3"
  },
  "language_info": {
   "codemirror_mode": {
    "name": "ipython",
    "version": 3
   },
   "file_extension": ".py",
   "mimetype": "text/x-python",
   "name": "python",
   "nbconvert_exporter": "python",
   "pygments_lexer": "ipython3",
   "version": "3.10.11"
  }
 },
 "nbformat": 4,
 "nbformat_minor": 5
}
