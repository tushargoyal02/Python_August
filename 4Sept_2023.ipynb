{
 "cells": [
  {
   "cell_type": "code",
   "execution_count": 10,
   "id": "0cfaff2a",
   "metadata": {},
   "outputs": [
    {
     "name": "stdout",
     "output_type": "stream",
     "text": [
      "hello world\they user\n"
     ]
    }
   ],
   "source": [
    "print(\"hello world\", end=\"\\t\")\n",
    "print(\"hey user\")"
   ]
  },
  {
   "cell_type": "code",
   "execution_count": 13,
   "id": "f9112e24",
   "metadata": {},
   "outputs": [
    {
     "name": "stdout",
     "output_type": "stream",
     "text": [
      "100 <class 'int'>\n"
     ]
    }
   ],
   "source": [
    "x=100\n",
    "\n",
    "print(x, type(x) )"
   ]
  },
  {
   "cell_type": "code",
   "execution_count": 15,
   "id": "7214cb59",
   "metadata": {},
   "outputs": [
    {
     "name": "stdout",
     "output_type": "stream",
     "text": [
      "<class 'str'>\n"
     ]
    }
   ],
   "source": [
    "x=\"hi\"\n",
    "print(type(x))"
   ]
  },
  {
   "cell_type": "code",
   "execution_count": 18,
   "id": "57620ff0",
   "metadata": {},
   "outputs": [
    {
     "name": "stdout",
     "output_type": "stream",
     "text": [
      "<class 'str'>\n"
     ]
    }
   ],
   "source": [
    "x='h'\n",
    "print(type(x))"
   ]
  },
  {
   "cell_type": "code",
   "execution_count": 24,
   "id": "ec10335b",
   "metadata": {},
   "outputs": [
    {
     "name": "stdout",
     "output_type": "stream",
     "text": [
      "12, abc \n",
      "jaipur rajasthan\n"
     ]
    }
   ],
   "source": [
    "address=\"12, abc \\njaipur rajasthan\"\n",
    "print(address)"
   ]
  },
  {
   "cell_type": "code",
   "execution_count": 26,
   "id": "bca046f2",
   "metadata": {},
   "outputs": [
    {
     "name": "stdout",
     "output_type": "stream",
     "text": [
      "12, abc \n",
      "jaipur\n",
      "rajasthan \n"
     ]
    }
   ],
   "source": [
    "address=\"\"\"12, abc \n",
    "jaipur\n",
    "rajasthan \"\"\"\n",
    "print(address)"
   ]
  },
  {
   "cell_type": "code",
   "execution_count": 28,
   "id": "451962f7",
   "metadata": {},
   "outputs": [
    {
     "name": "stdout",
     "output_type": "stream",
     "text": [
      "12, abc \n",
      "jaipur\n",
      "rajasthan \n"
     ]
    }
   ],
   "source": [
    "address='''12, abc \n",
    "jaipur\n",
    "rajasthan '''\n",
    "print(address)"
   ]
  },
  {
   "cell_type": "code",
   "execution_count": 30,
   "id": "9ebf8d62",
   "metadata": {},
   "outputs": [
    {
     "name": "stdout",
     "output_type": "stream",
     "text": [
      "hey\n"
     ]
    }
   ],
   "source": [
    "# sdklfsadfkladsklfjaskldfjasdlk\n",
    "#jkbi\n",
    "#ioijiop\n",
    "print(\"hey\")"
   ]
  },
  {
   "cell_type": "code",
   "execution_count": 32,
   "id": "74bb643d",
   "metadata": {},
   "outputs": [],
   "source": [
    "'''\n",
    ";ldksfjlkasdj\n",
    "sadfklajsdfasd\n",
    "fasd\n",
    "fas\n",
    "df\n",
    "asd\n",
    "'''\n",
    "x=10"
   ]
  },
  {
   "cell_type": "code",
   "execution_count": 35,
   "id": "1972f7d4",
   "metadata": {},
   "outputs": [
    {
     "name": "stdout",
     "output_type": "stream",
     "text": [
      "age is 19 name is  tushar\n"
     ]
    }
   ],
   "source": [
    "# string formatting\n",
    "age=19\n",
    "name=\"tushar\"\n",
    "\n",
    "print(\"age is\",age, \"name is \",name)"
   ]
  },
  {
   "cell_type": "code",
   "execution_count": 39,
   "id": "01d7ca5f",
   "metadata": {},
   "outputs": [
    {
     "name": "stdout",
     "output_type": "stream",
     "text": [
      "age is 19 name is tushar\n"
     ]
    }
   ],
   "source": [
    "# string formatting\n",
    "age=19\n",
    "name=\"tushar\"\n",
    "\n",
    "print(f\"age is {age} name is {name}\")"
   ]
  },
  {
   "cell_type": "code",
   "execution_count": 42,
   "id": "d6f61f4c",
   "metadata": {},
   "outputs": [
    {
     "name": "stdout",
     "output_type": "stream",
     "text": [
      "2049191969296 10\n",
      "2049191969296 y\n"
     ]
    }
   ],
   "source": [
    "x=10\n",
    "print( id(x),   x)\n",
    "\n",
    "y=x\n",
    "print(id(y), \"y\")"
   ]
  },
  {
   "cell_type": "code",
   "execution_count": 45,
   "id": "0f483989",
   "metadata": {},
   "outputs": [
    {
     "name": "stdout",
     "output_type": "stream",
     "text": [
      "10\n",
      "10\n"
     ]
    }
   ],
   "source": [
    "print(x)\n",
    "print(y)"
   ]
  },
  {
   "cell_type": "code",
   "execution_count": 48,
   "id": "6bc3fb5d",
   "metadata": {},
   "outputs": [
    {
     "name": "stdout",
     "output_type": "stream",
     "text": [
      "20 2049191969616\n",
      "10 2049191969296\n"
     ]
    }
   ],
   "source": [
    "x=20\n",
    "print(x, id(x))\n",
    "\n",
    "print(y, id(y))"
   ]
  },
  {
   "cell_type": "code",
   "execution_count": 52,
   "id": "5113b0e1",
   "metadata": {},
   "outputs": [
    {
     "name": "stdout",
     "output_type": "stream",
     "text": [
      "hey usertushar\n",
      "hey usertushar\n"
     ]
    }
   ],
   "source": [
    "username=\"tushar\"\n",
    "greeting=f\"hey user{username}\"\n",
    "\n",
    "#  greeting = hey user tushar\n",
    "\n",
    "print(greeting)\n",
    "username=\"radha\"\n",
    "print(greeting)"
   ]
  },
  {
   "cell_type": "code",
   "execution_count": 53,
   "id": "28951a2c",
   "metadata": {},
   "outputs": [
    {
     "name": "stdout",
     "output_type": "stream",
     "text": [
      "10\n",
      "10 10 10\n"
     ]
    }
   ],
   "source": [
    "x=10\n",
    "print(x)\n",
    "print(x,x,x)"
   ]
  },
  {
   "cell_type": "code",
   "execution_count": null,
   "id": "28f18ab6",
   "metadata": {},
   "outputs": [],
   "source": []
  },
  {
   "cell_type": "markdown",
   "id": "0035829f",
   "metadata": {},
   "source": [
    "## slicing operator & indexing\n",
    "state=\"RAJASTHAN\"\n",
    "\n",
    "state[1]"
   ]
  },
  {
   "cell_type": "code",
   "execution_count": 58,
   "id": "590cb054",
   "metadata": {},
   "outputs": [
    {
     "data": {
      "text/plain": [
       "'H'"
      ]
     },
     "execution_count": 58,
     "metadata": {},
     "output_type": "execute_result"
    }
   ],
   "source": [
    "state=\"RAJASTHAN\"\n",
    "\n",
    "state[-3]"
   ]
  },
  {
   "cell_type": "code",
   "execution_count": 61,
   "id": "e27e7836",
   "metadata": {},
   "outputs": [
    {
     "data": {
      "text/plain": [
       "'RAJA'"
      ]
     },
     "execution_count": 61,
     "metadata": {},
     "output_type": "execute_result"
    }
   ],
   "source": [
    "# slicing operator\n",
    "# slicing [start : stop : [step=1 ]  ]\n",
    "# stoping that is exclusive \n",
    "\n",
    "state=\"RAJASTHAN\"\n",
    "\n",
    "state[0:4]"
   ]
  },
  {
   "cell_type": "code",
   "execution_count": 63,
   "id": "f45e4659",
   "metadata": {},
   "outputs": [
    {
     "data": {
      "text/plain": [
       "'AJA'"
      ]
     },
     "execution_count": 63,
     "metadata": {},
     "output_type": "execute_result"
    }
   ],
   "source": [
    "state=\"RAJASTHAN\"\n",
    "state[1:4]"
   ]
  },
  {
   "cell_type": "code",
   "execution_count": 65,
   "id": "5a8cba6e",
   "metadata": {},
   "outputs": [
    {
     "data": {
      "text/plain": [
       "'RAJAS'"
      ]
     },
     "execution_count": 65,
     "metadata": {},
     "output_type": "execute_result"
    }
   ],
   "source": [
    "state=\"RAJASTHAN\"\n",
    "state[0:5]"
   ]
  },
  {
   "cell_type": "code",
   "execution_count": 68,
   "id": "ae7799d1",
   "metadata": {},
   "outputs": [
    {
     "data": {
      "text/plain": [
       "'RJS'"
      ]
     },
     "execution_count": 68,
     "metadata": {},
     "output_type": "execute_result"
    }
   ],
   "source": [
    "state=\"RAJASTHAN\"\n",
    "state[0:5:2]\n",
    "\n",
    "#  0+1  => 1+1  => 2+1 => 3+1 => 4"
   ]
  },
  {
   "cell_type": "code",
   "execution_count": 70,
   "id": "f7ace013",
   "metadata": {},
   "outputs": [
    {
     "data": {
      "text/plain": [
       "'RAJAS'"
      ]
     },
     "execution_count": 70,
     "metadata": {},
     "output_type": "execute_result"
    }
   ],
   "source": [
    "state=\"RAJASTHAN\"\n",
    "state[0:5]"
   ]
  },
  {
   "cell_type": "code",
   "execution_count": 72,
   "id": "60ab898f",
   "metadata": {},
   "outputs": [
    {
     "data": {
      "text/plain": [
       "''"
      ]
     },
     "execution_count": 72,
     "metadata": {},
     "output_type": "execute_result"
    }
   ],
   "source": [
    "state=\"RAJASTHAN\"\n",
    "state[0:5:-1]"
   ]
  },
  {
   "cell_type": "code",
   "execution_count": 75,
   "id": "945b275d",
   "metadata": {},
   "outputs": [
    {
     "data": {
      "text/plain": [
       "'NA'"
      ]
     },
     "execution_count": 75,
     "metadata": {},
     "output_type": "execute_result"
    }
   ],
   "source": [
    "state=\"RAJASTHAN\"\n",
    "state[-1:-3:-1]"
   ]
  },
  {
   "cell_type": "code",
   "execution_count": 77,
   "id": "73907001",
   "metadata": {},
   "outputs": [
    {
     "data": {
      "text/plain": [
       "'STH'"
      ]
     },
     "execution_count": 77,
     "metadata": {},
     "output_type": "execute_result"
    }
   ],
   "source": [
    "state=\"RAJASTHAN\"\n",
    "state[-5:-2]"
   ]
  },
  {
   "cell_type": "code",
   "execution_count": 82,
   "id": "c66239b7",
   "metadata": {},
   "outputs": [
    {
     "data": {
      "text/plain": [
       "'JASTHAN'"
      ]
     },
     "execution_count": 82,
     "metadata": {},
     "output_type": "execute_result"
    }
   ],
   "source": [
    "state=\"RAJASTHAN\"\n",
    "state[2:]"
   ]
  },
  {
   "cell_type": "code",
   "execution_count": 85,
   "id": "e4bdcc07",
   "metadata": {},
   "outputs": [
    {
     "data": {
      "text/plain": [
       "'RAJAS'"
      ]
     },
     "execution_count": 85,
     "metadata": {},
     "output_type": "execute_result"
    }
   ],
   "source": [
    "state=\"RAJASTHAN\"\n",
    "state[:5]\n",
    "\n",
    "\n"
   ]
  },
  {
   "cell_type": "code",
   "execution_count": null,
   "id": "53cbe41a",
   "metadata": {},
   "outputs": [],
   "source": [
    "# operators  "
   ]
  }
 ],
 "metadata": {
  "kernelspec": {
   "display_name": "Python 3 (ipykernel)",
   "language": "python",
   "name": "python3"
  },
  "language_info": {
   "codemirror_mode": {
    "name": "ipython",
    "version": 3
   },
   "file_extension": ".py",
   "mimetype": "text/x-python",
   "name": "python",
   "nbconvert_exporter": "python",
   "pygments_lexer": "ipython3",
   "version": "3.10.11"
  }
 },
 "nbformat": 4,
 "nbformat_minor": 5
}
