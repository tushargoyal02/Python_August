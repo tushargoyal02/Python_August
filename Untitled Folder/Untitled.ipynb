{
 "cells": [
  {
   "cell_type": "code",
   "execution_count": 9,
   "id": "ded6e6e6",
   "metadata": {},
   "outputs": [],
   "source": [
    "# blueprint\n",
    "\n",
    "class Student:\n",
    "    sid=10\n",
    "    sname=\"tushar\"\n",
    "    \n",
    "    def info(self):\n",
    "        print(\"Student detail here\")\n"
   ]
  },
  {
   "cell_type": "code",
   "execution_count": 10,
   "id": "7d3d7907",
   "metadata": {},
   "outputs": [
    {
     "name": "stdout",
     "output_type": "stream",
     "text": [
      "Student detail here\n"
     ]
    }
   ],
   "source": [
    "# object = class()\n",
    "std1=Student()\n",
    "std1.info()\n",
    "# print(std1.sid,  std1.sname)"
   ]
  },
  {
   "cell_type": "code",
   "execution_count": 11,
   "id": "6d5fdccb",
   "metadata": {},
   "outputs": [
    {
     "name": "stdout",
     "output_type": "stream",
     "text": [
      "10 tushar\n"
     ]
    }
   ],
   "source": [
    "std2=Student()\n",
    "print(std2.sid,  std2.sname)"
   ]
  },
  {
   "cell_type": "code",
   "execution_count": 28,
   "id": "74c90f61",
   "metadata": {},
   "outputs": [
    {
     "name": "stdout",
     "output_type": "stream",
     "text": [
      "Student detail 30 tushar\n"
     ]
    }
   ],
   "source": [
    "# blueprint\n",
    "# function jiski help se haar object ko ek data assign karte hai\n",
    "\n",
    "class Student:\n",
    "    def __init__(self,sid, sname):\n",
    "        self.sid=sid\n",
    "        self.sname=sname\n",
    "        \n",
    "    def info(self):\n",
    "        print(\"Student detail\", self.sid, self.sname)\n",
    "        \n",
    "std2=Student(30,\"tushar\")\n",
    "std2.info()"
   ]
  },
  {
   "cell_type": "code",
   "execution_count": 30,
   "id": "382e09fc",
   "metadata": {},
   "outputs": [
    {
     "name": "stdout",
     "output_type": "stream",
     "text": [
      "Student detail 40 aman\n"
     ]
    }
   ],
   "source": [
    "std3=Student(40,\"aman\")\n",
    "std3.info()"
   ]
  },
  {
   "cell_type": "code",
   "execution_count": 31,
   "id": "9e16e532",
   "metadata": {},
   "outputs": [
    {
     "ename": "TypeError",
     "evalue": "func() takes 0 positional arguments but 1 was given",
     "output_type": "error",
     "traceback": [
      "\u001b[1;31m---------------------------------------------------------------------------\u001b[0m",
      "\u001b[1;31mTypeError\u001b[0m                                 Traceback (most recent call last)",
      "Cell \u001b[1;32mIn[31], line 4\u001b[0m\n\u001b[0;32m      1\u001b[0m \u001b[38;5;28;01mdef\u001b[39;00m \u001b[38;5;21mfunc\u001b[39m():\n\u001b[0;32m      2\u001b[0m     \u001b[38;5;28mprint\u001b[39m(x)\n\u001b[1;32m----> 4\u001b[0m \u001b[43mfunc\u001b[49m\u001b[43m(\u001b[49m\u001b[38;5;241;43m10\u001b[39;49m\u001b[43m)\u001b[49m\n",
      "\u001b[1;31mTypeError\u001b[0m: func() takes 0 positional arguments but 1 was given"
     ]
    }
   ],
   "source": [
    "def func():\n",
    "    print(x)\n",
    "    \n",
    "func(10)"
   ]
  },
  {
   "cell_type": "code",
   "execution_count": null,
   "id": "b98f21f2",
   "metadata": {},
   "outputs": [],
   "source": []
  },
  {
   "cell_type": "code",
   "execution_count": 39,
   "id": "745e88e1",
   "metadata": {},
   "outputs": [],
   "source": [
    "class Father:\n",
    "    amount=100\n",
    "    \n",
    "    def fatheramount(self):\n",
    "        print(\"hello father clas\")"
   ]
  },
  {
   "cell_type": "code",
   "execution_count": 40,
   "id": "3fcd11eb",
   "metadata": {},
   "outputs": [
    {
     "name": "stdout",
     "output_type": "stream",
     "text": [
      "hello father clas\n"
     ]
    }
   ],
   "source": [
    "# childclass (Parent class)\n",
    "class Son(Father):\n",
    "    newamount=50  \n",
    "    \n",
    "s1=Son()\n",
    "s1.fatheramount()"
   ]
  },
  {
   "cell_type": "code",
   "execution_count": 44,
   "id": "d209286d",
   "metadata": {},
   "outputs": [],
   "source": [
    "class Addition:\n",
    "    def addNo(self, num1,num2):\n",
    "        return num1+num2\n",
    "    \n",
    "class Subtract:\n",
    "    def subNo(self,num1, num2):\n",
    "        return num1-num2\n",
    "    \n"
   ]
  },
  {
   "cell_type": "code",
   "execution_count": 47,
   "id": "de59a211",
   "metadata": {},
   "outputs": [
    {
     "data": {
      "text/plain": [
       "8"
      ]
     },
     "execution_count": 47,
     "metadata": {},
     "output_type": "execute_result"
    }
   ],
   "source": [
    "class Arithmetic(Addition,Subtract):\n",
    "    def multiplyNo(self, num1,num2):\n",
    "        return num1*num2\n",
    "    \n",
    "a1=Arithmetic()\n",
    "a1.multiplyNo(10,2)\n",
    "a1.subNo(10,2)"
   ]
  },
  {
   "cell_type": "code",
   "execution_count": 52,
   "id": "98e68297",
   "metadata": {},
   "outputs": [
    {
     "name": "stdout",
     "output_type": "stream",
     "text": [
      "aman 1200\n"
     ]
    }
   ],
   "source": [
    "class Employee:\n",
    "    eid=10\n",
    "    ename=\"aman\"\n",
    "    email=\"aman@gmail.com\"\n",
    "    salary=100\n",
    "    \n",
    "class EmployeeInfo(Employee):\n",
    "    def info(self):\n",
    "        print(super().ename,  super().salary*12)\n",
    "        \n",
    "e1=EmployeeInfo()\n",
    "e1.info()"
   ]
  },
  {
   "cell_type": "code",
   "execution_count": 56,
   "id": "3332dbaa",
   "metadata": {},
   "outputs": [
    {
     "name": "stdout",
     "output_type": "stream",
     "text": [
      "['aman', 'gmail.com'] <class 'list'>\n"
     ]
    },
    {
     "data": {
      "text/plain": [
       "'gmail.com'"
      ]
     },
     "execution_count": 56,
     "metadata": {},
     "output_type": "execute_result"
    }
   ],
   "source": [
    "x=\"aman@gmail.com\".split(\"@\")\n",
    "print(x, type(x))\n",
    "x[-1]"
   ]
  },
  {
   "cell_type": "code",
   "execution_count": 58,
   "id": "2f15250a",
   "metadata": {},
   "outputs": [
    {
     "name": "stdout",
     "output_type": "stream",
     "text": [
      "INFO is 10 aditya aditya@gmail.com\n"
     ]
    }
   ],
   "source": [
    "class Driver:\n",
    "    def __init__(self,id,name, email):\n",
    "        self.id=id\n",
    "        self.name=name\n",
    "        self.email=email\n",
    "        \n",
    "    def info(self):\n",
    "        print(\"INFO is\",self.id, self.name, self.email)\n",
    "        \n",
    "d1=Driver(10,\"aditya\",\"aditya@gmail.com\")\n",
    "d1.info()"
   ]
  },
  {
   "cell_type": "code",
   "execution_count": 66,
   "id": "977a4a9a",
   "metadata": {},
   "outputs": [
    {
     "data": {
      "text/plain": [
       "459.0"
      ]
     },
     "execution_count": 66,
     "metadata": {},
     "output_type": "execute_result"
    }
   ],
   "source": [
    "class Customer(Driver):\n",
    "    def __init__(self,id,name, email,wallet):\n",
    "        super().__init__(id,name, email)\n",
    "        self.wallet=wallet\n",
    "        \n",
    "c1=Customer(30,\"happy\",\"happysingh@gmail.com\",459.0)\n",
    "c1.name\n",
    "c1.wallet"
   ]
  },
  {
   "cell_type": "code",
   "execution_count": null,
   "id": "076358cb",
   "metadata": {},
   "outputs": [],
   "source": [
    "def info(x,y):\n",
    "    pass\n",
    "\n",
    "def info(x,y,z):\n",
    "    pass\n",
    "\n",
    "info(10,20,20)"
   ]
  }
 ],
 "metadata": {
  "kernelspec": {
   "display_name": "Python 3 (ipykernel)",
   "language": "python",
   "name": "python3"
  },
  "language_info": {
   "codemirror_mode": {
    "name": "ipython",
    "version": 3
   },
   "file_extension": ".py",
   "mimetype": "text/x-python",
   "name": "python",
   "nbconvert_exporter": "python",
   "pygments_lexer": "ipython3",
   "version": "3.10.11"
  }
 },
 "nbformat": 4,
 "nbformat_minor": 5
}
