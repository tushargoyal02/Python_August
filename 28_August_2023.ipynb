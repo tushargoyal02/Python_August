{
 "cells": [
  {
   "cell_type": "code",
   "execution_count": 3,
   "id": "bcda204d",
   "metadata": {},
   "outputs": [],
   "source": [
    "# dictionary\n",
    "\n",
    "# key-value pair  => mutuable , and it stored the data in form of \n",
    "# key - value pair \n",
    "#  key - identifier   = value\n",
    "#  key - unique\n",
    "#  value - data ( unique or it may duplicate)"
   ]
  },
  {
   "cell_type": "code",
   "execution_count": 4,
   "id": "7d8b2601",
   "metadata": {},
   "outputs": [],
   "source": [
    "# mutuable datatype,  ordered but yahan pr koi index nhi hai"
   ]
  },
  {
   "cell_type": "code",
   "execution_count": 21,
   "id": "789ff7ff",
   "metadata": {},
   "outputs": [],
   "source": [
    "#  key : value\n",
    "# key are unique => immutable data type\n",
    "mydictionary={1:\"tushar\", 2:\"yash\",\"greeting\":1000}"
   ]
  },
  {
   "cell_type": "code",
   "execution_count": 14,
   "id": "fd9aaa1e",
   "metadata": {},
   "outputs": [],
   "source": [
    "\n",
    "mydictionary[\"greeting\"]=5000"
   ]
  },
  {
   "cell_type": "code",
   "execution_count": 16,
   "id": "723ff10a",
   "metadata": {},
   "outputs": [],
   "source": [
    "mydictionary[300]=\"aman\""
   ]
  },
  {
   "cell_type": "code",
   "execution_count": 20,
   "id": "55a55de4",
   "metadata": {},
   "outputs": [
    {
     "data": {
      "text/plain": [
       "{1: 'tushar', 2: ['yash'], 'greeting': 1000}"
      ]
     },
     "execution_count": 20,
     "metadata": {},
     "output_type": "execute_result"
    }
   ],
   "source": [
    "mydictionary\n"
   ]
  },
  {
   "cell_type": "code",
   "execution_count": 25,
   "id": "0ddcee88",
   "metadata": {},
   "outputs": [
    {
     "data": {
      "text/plain": [
       "{1: 'tushar', 2: 'yash', 'greeting': 1000}"
      ]
     },
     "execution_count": 25,
     "metadata": {},
     "output_type": "execute_result"
    }
   ],
   "source": [
    "mydictionary"
   ]
  },
  {
   "cell_type": "code",
   "execution_count": 26,
   "id": "e6659bee",
   "metadata": {},
   "outputs": [
    {
     "data": {
      "text/plain": [
       "1000"
      ]
     },
     "execution_count": 26,
     "metadata": {},
     "output_type": "execute_result"
    }
   ],
   "source": [
    "x=mydictionary.pop(\"greeting\")"
   ]
  },
  {
   "cell_type": "code",
   "execution_count": 28,
   "id": "a51a1530",
   "metadata": {},
   "outputs": [
    {
     "data": {
      "text/plain": [
       "{1: 'tushar', 2: 'yash'}"
      ]
     },
     "execution_count": 28,
     "metadata": {},
     "output_type": "execute_result"
    }
   ],
   "source": [
    "mydictionary"
   ]
  },
  {
   "cell_type": "code",
   "execution_count": 29,
   "id": "76252649",
   "metadata": {},
   "outputs": [
    {
     "data": {
      "text/plain": [
       "(2, 'yash')"
      ]
     },
     "execution_count": 29,
     "metadata": {},
     "output_type": "execute_result"
    }
   ],
   "source": [
    "mydictionary.popitem()"
   ]
  },
  {
   "cell_type": "code",
   "execution_count": 31,
   "id": "fa8af0f9",
   "metadata": {},
   "outputs": [
    {
     "data": {
      "text/plain": [
       "{1: 'tushar'}"
      ]
     },
     "execution_count": 31,
     "metadata": {},
     "output_type": "execute_result"
    }
   ],
   "source": [
    "mydictionary"
   ]
  },
  {
   "cell_type": "code",
   "execution_count": 36,
   "id": "1d0429a9",
   "metadata": {},
   "outputs": [],
   "source": [
    "i=(10,20)"
   ]
  },
  {
   "cell_type": "code",
   "execution_count": 37,
   "id": "4c971850",
   "metadata": {},
   "outputs": [
    {
     "name": "stdout",
     "output_type": "stream",
     "text": [
      "10\n"
     ]
    }
   ],
   "source": [
    "a,b=i\n",
    "print(a)"
   ]
  },
  {
   "cell_type": "code",
   "execution_count": 40,
   "id": "5bf72858",
   "metadata": {},
   "outputs": [
    {
     "name": "stdout",
     "output_type": "stream",
     "text": [
      "10\n",
      "30\n"
     ]
    }
   ],
   "source": [
    "list1=[ (10,20),(30,40) ]\n",
    "\n",
    "for i in list1:\n",
    "    a,b=i\n",
    "    print(a)"
   ]
  },
  {
   "cell_type": "code",
   "execution_count": 41,
   "id": "216b1cc0",
   "metadata": {},
   "outputs": [
    {
     "name": "stdout",
     "output_type": "stream",
     "text": [
      "10\n",
      "30\n"
     ]
    }
   ],
   "source": [
    "list1=[ (10,20),(30,40) ]\n",
    "\n",
    "for a,b in list1:\n",
    "    print(a)"
   ]
  },
  {
   "cell_type": "code",
   "execution_count": 44,
   "id": "98bbe8cd",
   "metadata": {},
   "outputs": [
    {
     "name": "stdout",
     "output_type": "stream",
     "text": [
      "1 tushar\n",
      "2 yash\n",
      "greeting 1000\n"
     ]
    }
   ],
   "source": [
    "mydictionary={1:\"tushar\", 2:\"yash\",\"greeting\":1000}\n",
    "\n",
    "for i in mydictionary:\n",
    "    print(i, mydictionary[i])"
   ]
  },
  {
   "cell_type": "code",
   "execution_count": 46,
   "id": "3924e24e",
   "metadata": {},
   "outputs": [
    {
     "name": "stdout",
     "output_type": "stream",
     "text": [
      "tushar\n",
      "yash\n",
      "1000\n"
     ]
    }
   ],
   "source": [
    "mydictionary={1:\"tushar\", 2:\"yash\",\"greeting\":1000}\n",
    "\n",
    "for i in mydictionary.values():\n",
    "    print(i)"
   ]
  },
  {
   "cell_type": "code",
   "execution_count": 48,
   "id": "b18bee9d",
   "metadata": {},
   "outputs": [
    {
     "data": {
      "text/plain": [
       "dict_items([(1, 'tushar'), (2, 'yash'), ('greeting', 1000)])"
      ]
     },
     "execution_count": 48,
     "metadata": {},
     "output_type": "execute_result"
    }
   ],
   "source": [
    "mydictionary={1:\"tushar\", 2:\"yash\",\"greeting\":1000}\n",
    "\n",
    "mydictionary.items()"
   ]
  },
  {
   "cell_type": "code",
   "execution_count": 49,
   "id": "31f48cea",
   "metadata": {},
   "outputs": [],
   "source": [
    "list1= [(1, 'tushar'), (2, 'yash'), ('greeting', 1000)]"
   ]
  },
  {
   "cell_type": "code",
   "execution_count": 53,
   "id": "cc81aa39",
   "metadata": {},
   "outputs": [
    {
     "name": "stdout",
     "output_type": "stream",
     "text": [
      "1 tushar\n",
      "2 yash\n",
      "greeting 1000\n"
     ]
    }
   ],
   "source": [
    "mydictionary={1:\"tushar\", 2:\"yash\",\"greeting\":1000}\n",
    "\n",
    "# [(1, 'tushar'), (2, 'yash'), ('greeting', 1000)]\n",
    "\n",
    "for key,value in mydictionary.items():\n",
    "    print(key, value)"
   ]
  },
  {
   "cell_type": "code",
   "execution_count": 54,
   "id": "ffa3fd6f",
   "metadata": {},
   "outputs": [
    {
     "name": "stdout",
     "output_type": "stream",
     "text": [
      "10\n",
      "30\n"
     ]
    }
   ],
   "source": [
    "list1=[ (10,20),(30,40) ]\n",
    "\n",
    "for a,b in list1:\n",
    "    print(a)"
   ]
  },
  {
   "cell_type": "code",
   "execution_count": 56,
   "id": "e0d98d67",
   "metadata": {},
   "outputs": [
    {
     "data": {
      "text/plain": [
       "{2: 'yash', 'greeting': 1000}"
      ]
     },
     "execution_count": 56,
     "metadata": {},
     "output_type": "execute_result"
    }
   ],
   "source": [
    "mydictionary"
   ]
  },
  {
   "cell_type": "code",
   "execution_count": 57,
   "id": "17d9a562",
   "metadata": {},
   "outputs": [],
   "source": [
    "mydictionary={1:\"tushar\", 2:\"yash\",\"greeting\":1000}\n",
    "\n",
    "del mydictionary[1]"
   ]
  },
  {
   "cell_type": "code",
   "execution_count": 63,
   "id": "710d79cf",
   "metadata": {},
   "outputs": [
    {
     "name": "stdout",
     "output_type": "stream",
     "text": [
      "{50, 20, 'hy', 10, 30}\n"
     ]
    }
   ],
   "source": [
    "# set => is a collection of element\n",
    "#  set is mutuable , set are unordered collection \n",
    "#  index position  are unique\n",
    "\n",
    "myset={10,20,30,10,10,20,50,\"hy\"}\n",
    "print(myset)"
   ]
  },
  {
   "cell_type": "code",
   "execution_count": 64,
   "id": "c93d5cd2",
   "metadata": {},
   "outputs": [
    {
     "data": {
      "text/plain": [
       "{10, 100, 20, 30, 50, 'hy'}"
      ]
     },
     "execution_count": 64,
     "metadata": {},
     "output_type": "execute_result"
    }
   ],
   "source": [
    "myset.add(100)\n",
    "myset"
   ]
  },
  {
   "cell_type": "code",
   "execution_count": 66,
   "id": "670a6c64",
   "metadata": {},
   "outputs": [
    {
     "data": {
      "text/plain": [
       "{10, 100, 20, 30, 50, 88, 99, 'e', 'h', 'hy', 'omg', 'y'}"
      ]
     },
     "execution_count": 66,
     "metadata": {},
     "output_type": "execute_result"
    }
   ],
   "source": [
    "myset.update([\"omg\",99,88])\n",
    "myset"
   ]
  },
  {
   "cell_type": "code",
   "execution_count": 69,
   "id": "aa1f7f8b",
   "metadata": {},
   "outputs": [
    {
     "ename": "KeyError",
     "evalue": "10",
     "output_type": "error",
     "traceback": [
      "\u001b[1;31m---------------------------------------------------------------------------\u001b[0m",
      "\u001b[1;31mKeyError\u001b[0m                                  Traceback (most recent call last)",
      "Cell \u001b[1;32mIn[69], line 1\u001b[0m\n\u001b[1;32m----> 1\u001b[0m \u001b[43mmyset\u001b[49m\u001b[38;5;241;43m.\u001b[39;49m\u001b[43mremove\u001b[49m\u001b[43m(\u001b[49m\u001b[38;5;241;43m10\u001b[39;49m\u001b[43m)\u001b[49m\n\u001b[0;32m      2\u001b[0m myset\n",
      "\u001b[1;31mKeyError\u001b[0m: 10"
     ]
    }
   ],
   "source": [
    "myset.remove(10)\n",
    "myset"
   ]
  },
  {
   "cell_type": "code",
   "execution_count": null,
   "id": "eb583ed8",
   "metadata": {},
   "outputs": [],
   "source": []
  },
  {
   "cell_type": "code",
   "execution_count": 70,
   "id": "cf6e87d1",
   "metadata": {},
   "outputs": [
    {
     "data": {
      "text/plain": [
       "{100, 20, 30, 50, 88, 99, 'e', 'h', 'hy', 'omg', 'y'}"
      ]
     },
     "execution_count": 70,
     "metadata": {},
     "output_type": "execute_result"
    }
   ],
   "source": [
    "myset"
   ]
  },
  {
   "cell_type": "code",
   "execution_count": 73,
   "id": "f918c05f",
   "metadata": {},
   "outputs": [
    {
     "data": {
      "text/plain": [
       "{100, 30, 50, 88, 99, 'e', 'h', 'hy', 'omg', 'y'}"
      ]
     },
     "execution_count": 73,
     "metadata": {},
     "output_type": "execute_result"
    }
   ],
   "source": [
    "myset.discard(20)\n",
    "myset"
   ]
  },
  {
   "cell_type": "code",
   "execution_count": 75,
   "id": "a9d30ddf",
   "metadata": {},
   "outputs": [
    {
     "ename": "SyntaxError",
     "evalue": "invalid syntax (2180850307.py, line 4)",
     "output_type": "error",
     "traceback": [
      "\u001b[1;36m  Cell \u001b[1;32mIn[75], line 4\u001b[1;36m\u001b[0m\n\u001b[1;33m    myset1.(myset2)\u001b[0m\n\u001b[1;37m           ^\u001b[0m\n\u001b[1;31mSyntaxError\u001b[0m\u001b[1;31m:\u001b[0m invalid syntax\n"
     ]
    }
   ],
   "source": [
    "myset1={10,20,30}\n",
    "myset2={30,40,10,50}\n",
    "\n",
    "myset1.(myset2)"
   ]
  },
  {
   "cell_type": "code",
   "execution_count": 76,
   "id": "f9c82d60",
   "metadata": {},
   "outputs": [
    {
     "data": {
      "text/plain": [
       "'\\ndef  funcation():\\n    statement\\n'"
      ]
     },
     "execution_count": 76,
     "metadata": {},
     "output_type": "execute_result"
    }
   ],
   "source": [
    "#  block of code => ek baar logic likho and bar bar use karo\n",
    "#  template -> statement => again and again use karoge\n",
    "\n",
    "\"\"\"\n",
    "def  funcation():\n",
    "    statement\n",
    "\"\"\"\n"
   ]
  },
  {
   "cell_type": "code",
   "execution_count": 77,
   "id": "63bd07fd",
   "metadata": {},
   "outputs": [],
   "source": [
    "def greeting():\n",
    "    print(\"hey user tushar\")"
   ]
  },
  {
   "cell_type": "code",
   "execution_count": 79,
   "id": "036338e5",
   "metadata": {},
   "outputs": [
    {
     "name": "stdout",
     "output_type": "stream",
     "text": [
      "hey user\n",
      "hey user\n",
      "hey user\n"
     ]
    }
   ],
   "source": [
    "# function calling\n",
    "greeting()\n",
    "greeting()\n",
    "greeting()"
   ]
  },
  {
   "cell_type": "code",
   "execution_count": 87,
   "id": "a071454a",
   "metadata": {},
   "outputs": [],
   "source": [
    "# parameter\n",
    "# function declaration\n",
    "\n",
    "def greeting(username):\n",
    "    print(\"hey user\", username)"
   ]
  },
  {
   "cell_type": "code",
   "execution_count": 88,
   "id": "d7ce4f16",
   "metadata": {},
   "outputs": [
    {
     "name": "stdout",
     "output_type": "stream",
     "text": [
      "hey user tushar\n",
      "hey user aman\n"
     ]
    }
   ],
   "source": [
    "# function call  =>  argument\n",
    "greeting(\"tushar\")\n",
    "greeting(\"aman\")"
   ]
  },
  {
   "cell_type": "code",
   "execution_count": 95,
   "id": "d94e9362",
   "metadata": {},
   "outputs": [],
   "source": [
    "def companyDetail(eid, fname, email):\n",
    "    print(f\" Eid is : {eid} \\n First Name : {fname} \\n Email : {email}\")"
   ]
  },
  {
   "cell_type": "code",
   "execution_count": 96,
   "id": "6b096f00",
   "metadata": {},
   "outputs": [
    {
     "name": "stdout",
     "output_type": "stream",
     "text": [
      " Eid is : 1 \n",
      " First Name : tushar \n",
      " Email : tushar@gmail.com\n"
     ]
    }
   ],
   "source": [
    "companyDetail(1,\"tushar\",\"tushar@gmail.com\")"
   ]
  },
  {
   "cell_type": "code",
   "execution_count": 105,
   "id": "16abde0f",
   "metadata": {},
   "outputs": [],
   "source": [
    "def func(x):\n",
    "    x=20\n",
    "    print(\"x :\",x, id(x))"
   ]
  },
  {
   "cell_type": "code",
   "execution_count": 106,
   "id": "0fd9597e",
   "metadata": {},
   "outputs": [
    {
     "name": "stdout",
     "output_type": "stream",
     "text": [
      "Age 2935732437520\n",
      "x : 20 2935732437840\n"
     ]
    }
   ],
   "source": [
    "age=10\n",
    "print(\"Age\",id(age))\n",
    "\n",
    "func(age)"
   ]
  },
  {
   "cell_type": "code",
   "execution_count": 108,
   "id": "d676e084",
   "metadata": {},
   "outputs": [
    {
     "data": {
      "text/plain": [
       "10"
      ]
     },
     "execution_count": 108,
     "metadata": {},
     "output_type": "execute_result"
    }
   ],
   "source": [
    "age"
   ]
  },
  {
   "cell_type": "code",
   "execution_count": 110,
   "id": "e85b280b",
   "metadata": {},
   "outputs": [
    {
     "name": "stdout",
     "output_type": "stream",
     "text": [
      "mylist is [9, 11]\n"
     ]
    }
   ],
   "source": [
    "def listAdd(mylist):\n",
    "    print(\"mylist is\",mylist)\n",
    "    \n",
    "list1=[9,11]\n",
    "listAdd(list1)"
   ]
  },
  {
   "cell_type": "code",
   "execution_count": 113,
   "id": "a16a3504",
   "metadata": {},
   "outputs": [
    {
     "name": "stdout",
     "output_type": "stream",
     "text": [
      "mylist is [9, 11]\n",
      "Original wale changes [100, 11]\n"
     ]
    }
   ],
   "source": [
    "def listAdd(mylist):\n",
    "    print(\"mylist is\",mylist)\n",
    "    mylist[0]=100\n",
    "    \n",
    "list1=[9,11]\n",
    "listAdd(list1)\n",
    "\n",
    "print(\"Original wale changes\",list1)\n"
   ]
  },
  {
   "cell_type": "code",
   "execution_count": null,
   "id": "f19f0f7a",
   "metadata": {},
   "outputs": [],
   "source": []
  }
 ],
 "metadata": {
  "kernelspec": {
   "display_name": "Python 3 (ipykernel)",
   "language": "python",
   "name": "python3"
  },
  "language_info": {
   "codemirror_mode": {
    "name": "ipython",
    "version": 3
   },
   "file_extension": ".py",
   "mimetype": "text/x-python",
   "name": "python",
   "nbconvert_exporter": "python",
   "pygments_lexer": "ipython3",
   "version": "3.10.11"
  }
 },
 "nbformat": 4,
 "nbformat_minor": 5
}
