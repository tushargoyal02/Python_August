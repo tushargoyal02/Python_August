{
 "cells": [
  {
   "cell_type": "code",
   "execution_count": 1,
   "id": "9721f8d7",
   "metadata": {},
   "outputs": [],
   "source": [
    "# function\n",
    "#  lambda functions"
   ]
  },
  {
   "cell_type": "code",
   "execution_count": 13,
   "id": "33d06c4b",
   "metadata": {},
   "outputs": [
    {
     "name": "stdout",
     "output_type": "stream",
     "text": [
      "10\n",
      "error came name 'yy' is not defined\n"
     ]
    }
   ],
   "source": [
    "# exceptional handling and file handing\n",
    "try:\n",
    "    x=10\n",
    "    print(x)\n",
    "    x/yy\n",
    "    print(\"hello\")\n",
    "except NameError as e:\n",
    "    print(\"error came\",e)\n",
    "except ZeroDivisionError as e:\n",
    "    print(\"error Zero division came\",e)"
   ]
  },
  {
   "cell_type": "code",
   "execution_count": 16,
   "id": "c36b5d7a",
   "metadata": {},
   "outputs": [
    {
     "name": "stdout",
     "output_type": "stream",
     "text": [
      "10\n",
      "error came division by zero\n"
     ]
    }
   ],
   "source": [
    "try:\n",
    "    x=10\n",
    "    print(x)\n",
    "    x/0\n",
    "    print(\"hello\")\n",
    "except (NameError,ZeroDivisionError) as e:\n",
    "    print(\"error came\",e)"
   ]
  },
  {
   "cell_type": "code",
   "execution_count": 20,
   "id": "2c9b3407",
   "metadata": {},
   "outputs": [
    {
     "name": "stdout",
     "output_type": "stream",
     "text": [
      "10\n",
      "hello\n"
     ]
    }
   ],
   "source": [
    "try:\n",
    "    x=10\n",
    "    print(x)\n",
    "    try:\n",
    "        x/2\n",
    "    except:\n",
    "        print(\"value not divide by 0\")\n",
    "        \n",
    "    print(\"hello\")\n",
    "except (NameError,ZeroDivisionError) as e:\n",
    "    print(\"error came\",e)"
   ]
  },
  {
   "cell_type": "code",
   "execution_count": 27,
   "id": "3ff0f91b",
   "metadata": {},
   "outputs": [
    {
     "name": "stdout",
     "output_type": "stream",
     "text": [
      "10\n",
      "hello\n",
      "finally here\n"
     ]
    }
   ],
   "source": [
    "try:\n",
    "    x=10\n",
    "    print(x)\n",
    "    x/99\n",
    "    print(\"hello\")\n",
    "    \n",
    "except:\n",
    "    print(\"error came\")\n",
    "finally:\n",
    "    print(\"finally here\")"
   ]
  },
  {
   "cell_type": "code",
   "execution_count": 30,
   "id": "b289f1ed",
   "metadata": {},
   "outputs": [
    {
     "ename": "UnsupportedOperation",
     "evalue": "not writable",
     "output_type": "error",
     "traceback": [
      "\u001b[1;31m---------------------------------------------------------------------------\u001b[0m",
      "\u001b[1;31mUnsupportedOperation\u001b[0m                      Traceback (most recent call last)",
      "Cell \u001b[1;32mIn[30], line 6\u001b[0m\n\u001b[0;32m      4\u001b[0m fileobj \u001b[38;5;241m=\u001b[39m \u001b[38;5;28mopen\u001b[39m(\u001b[38;5;124m\"\u001b[39m\u001b[38;5;124m111.txt\u001b[39m\u001b[38;5;124m\"\u001b[39m,\u001b[38;5;124m\"\u001b[39m\u001b[38;5;124mr\u001b[39m\u001b[38;5;124m\"\u001b[39m)\n\u001b[0;32m      5\u001b[0m x\u001b[38;5;241m=\u001b[39mfileobj\u001b[38;5;241m.\u001b[39mread()\n\u001b[1;32m----> 6\u001b[0m \u001b[43mfileobj\u001b[49m\u001b[38;5;241;43m.\u001b[39;49m\u001b[43mwrite\u001b[49m\u001b[43m(\u001b[49m\u001b[38;5;124;43m\"\u001b[39;49m\u001b[38;5;124;43mhasdfkas\u001b[39;49m\u001b[38;5;124;43m\"\u001b[39;49m\u001b[43m)\u001b[49m\n\u001b[0;32m      7\u001b[0m \u001b[38;5;28mprint\u001b[39m(x)\n\u001b[0;32m      8\u001b[0m fileobj\u001b[38;5;241m.\u001b[39mclose()\n",
      "\u001b[1;31mUnsupportedOperation\u001b[0m: not writable"
     ]
    }
   ],
   "source": [
    "# file handling\n",
    "\n",
    "# open(filename, option)   , read , write  => close()\n",
    "fileobj = open(\"111.txt\",\"r\")\n",
    "x=fileobj.read()\n",
    "fileobj.write(\"hasdfkas\")\n",
    "print(x)\n",
    "fileobj.close()"
   ]
  },
  {
   "cell_type": "code",
   "execution_count": 32,
   "id": "e5f1bb02",
   "metadata": {},
   "outputs": [],
   "source": [
    "fileobj = open(\"111.txt\",\"w\")\n",
    "fileobj.write(\"hasdfkas\")\n",
    "fileobj.close()\n",
    "\n",
    "#  rb, rb+, wb, wb, a, a+, x "
   ]
  },
  {
   "cell_type": "code",
   "execution_count": 33,
   "id": "8d052d2c",
   "metadata": {},
   "outputs": [
    {
     "name": "stdout",
     "output_type": "stream",
     "text": [
      "hasdfkas\n"
     ]
    }
   ],
   "source": [
    "fileobj = open(\"111.txt\",\"r+\")\n",
    "x=fileobj.read()\n",
    "print(x)\n",
    "fileobj.write(\"###\")\n",
    "fileobj.close()"
   ]
  },
  {
   "cell_type": "code",
   "execution_count": 35,
   "id": "17738df0",
   "metadata": {},
   "outputs": [
    {
     "name": "stdout",
     "output_type": "stream",
     "text": [
      "sdfkas###\n"
     ]
    }
   ],
   "source": [
    "fileobj = open(\"111.txt\",\"r+\")\n",
    "\n",
    "fileobj.write(\"$$\")\n",
    "x=fileobj.read()\n",
    "print(x)\n",
    "fileobj.close()"
   ]
  },
  {
   "cell_type": "code",
   "execution_count": 36,
   "id": "4e5749c8",
   "metadata": {},
   "outputs": [
    {
     "name": "stdout",
     "output_type": "stream",
     "text": [
      "$$sdfkas###\n"
     ]
    }
   ],
   "source": [
    "with open(\"111.txt\",\"r+\") as fileobj:\n",
    "    x=fileobj.read()\n",
    "    print(x)\n",
    "    \n",
    "    \n",
    "# fileobj = open(\"111.txt\",\"r+\")\n",
    "# x=fileobj.read()\n",
    "# print(x)\n",
    "# fileobj.write(\"###\")\n",
    "# fileobj.close()"
   ]
  },
  {
   "cell_type": "code",
   "execution_count": 40,
   "id": "c65ad9f0",
   "metadata": {},
   "outputs": [
    {
     "name": "stdout",
     "output_type": "stream",
     "text": [
      "['$$sdfkas###\\n', 'he\\n', 'asfkdjasd\\n', 'a;lfkjasd;kl']\n"
     ]
    }
   ],
   "source": [
    "fileobj= open(\"111.txt\",\"r+\")\n",
    "x=fileobj.readlines()\n",
    "print(x)\n",
    "fileobj.close()"
   ]
  },
  {
   "cell_type": "code",
   "execution_count": 48,
   "id": "05fe114b",
   "metadata": {},
   "outputs": [
    {
     "data": {
      "text/plain": [
       "<__main__.Student at 0x23e4feab160>"
      ]
     },
     "execution_count": 48,
     "metadata": {},
     "output_type": "execute_result"
    }
   ],
   "source": [
    "class Student:\n",
    "    =4\n",
    "    name=\"aditya\"\n",
    "\n",
    "    def feedeposit(self):\n",
    "        print(\"fee deposited successfully\",self.ids)\n",
    "        \n",
    "# object for the template  -- constructor\n",
    "Student()\n"
   ]
  },
  {
   "cell_type": "code",
   "execution_count": 47,
   "id": "ffc19d59",
   "metadata": {},
   "outputs": [
    {
     "name": "stdout",
     "output_type": "stream",
     "text": [
      "fee deposited successfully 4\n",
      "4 aditya\n"
     ]
    }
   ],
   "source": [
    "std2 = Student()\n",
    "\n",
    "std2.feedeposit()\n",
    "print(std2.ids, std2.name)"
   ]
  },
  {
   "cell_type": "code",
   "execution_count": 59,
   "id": "5479298f",
   "metadata": {},
   "outputs": [
    {
     "name": "stdout",
     "output_type": "stream",
     "text": [
      "123 20\n"
     ]
    }
   ],
   "source": [
    "class Student:\n",
    "    #dunder methods\n",
    "    def __init__(self,x):\n",
    "        self.ids=x\n",
    "\n",
    "\n",
    "std1=Student(20)\n",
    "std2=Student(40)\n",
    "\n",
    "# what is oops\n",
    "#  what is inheritence\n"
   ]
  },
  {
   "cell_type": "code",
   "execution_count": null,
   "id": "81db0287",
   "metadata": {},
   "outputs": [],
   "source": []
  }
 ],
 "metadata": {
  "kernelspec": {
   "display_name": "Python 3 (ipykernel)",
   "language": "python",
   "name": "python3"
  },
  "language_info": {
   "codemirror_mode": {
    "name": "ipython",
    "version": 3
   },
   "file_extension": ".py",
   "mimetype": "text/x-python",
   "name": "python",
   "nbconvert_exporter": "python",
   "pygments_lexer": "ipython3",
   "version": "3.10.11"
  }
 },
 "nbformat": 4,
 "nbformat_minor": 5
}
