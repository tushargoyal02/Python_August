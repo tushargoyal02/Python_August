{
 "cells": [
  {
   "cell_type": "code",
   "execution_count": 8,
   "id": "cd76a68f",
   "metadata": {},
   "outputs": [],
   "source": [
    "def func(x):\n",
    "    print(\"hey tushar\",x)"
   ]
  },
  {
   "cell_type": "code",
   "execution_count": 9,
   "id": "57760d22",
   "metadata": {},
   "outputs": [
    {
     "name": "stdout",
     "output_type": "stream",
     "text": [
      "hey tushar 10\n"
     ]
    }
   ],
   "source": [
    "func(10)"
   ]
  },
  {
   "cell_type": "code",
   "execution_count": 10,
   "id": "a2cb226f",
   "metadata": {},
   "outputs": [
    {
     "name": "stdout",
     "output_type": "stream",
     "text": [
      "hey tushar hey\n"
     ]
    }
   ],
   "source": [
    "func(\"hey\")"
   ]
  },
  {
   "cell_type": "code",
   "execution_count": 11,
   "id": "4f85d8b2",
   "metadata": {},
   "outputs": [],
   "source": [
    "def addNo(num):\n",
    "    num=num+5\n",
    "    print(\"Num value is\",num)"
   ]
  },
  {
   "cell_type": "code",
   "execution_count": 13,
   "id": "2bbbfec0",
   "metadata": {},
   "outputs": [
    {
     "name": "stdout",
     "output_type": "stream",
     "text": [
      "Num value is 15\n",
      "10\n"
     ]
    }
   ],
   "source": [
    "x=10\n",
    "addNo(x)\n",
    "print(x)"
   ]
  },
  {
   "cell_type": "code",
   "execution_count": 15,
   "id": "cb2ba5bd",
   "metadata": {},
   "outputs": [
    {
     "ename": "NameError",
     "evalue": "name 'num' is not defined",
     "output_type": "error",
     "traceback": [
      "\u001b[1;31m---------------------------------------------------------------------------\u001b[0m",
      "\u001b[1;31mNameError\u001b[0m                                 Traceback (most recent call last)",
      "Cell \u001b[1;32mIn[15], line 1\u001b[0m\n\u001b[1;32m----> 1\u001b[0m \u001b[38;5;28mprint\u001b[39m(\u001b[43mnum\u001b[49m)\n",
      "\u001b[1;31mNameError\u001b[0m: name 'num' is not defined"
     ]
    }
   ],
   "source": [
    "print(num)"
   ]
  },
  {
   "cell_type": "code",
   "execution_count": 16,
   "id": "8ca36e47",
   "metadata": {},
   "outputs": [
    {
     "name": "stdout",
     "output_type": "stream",
     "text": [
      "older 10\n",
      "50\n",
      "new 10\n"
     ]
    }
   ],
   "source": [
    "def func(num):\n",
    "    num=50\n",
    "    print(num)\n",
    "    \n",
    "num=10\n",
    "print(\"older\",num)\n",
    "func(num)\n",
    "print(\"new\",num)"
   ]
  },
  {
   "cell_type": "code",
   "execution_count": 17,
   "id": "13edfbd4",
   "metadata": {},
   "outputs": [],
   "source": [
    "# type of argument passing \n",
    "\n",
    "def company(eid, fname, email):\n",
    "    print(f\"Eid:{eid} \\nFName:{fname} \\nEmail:{email}\")"
   ]
  },
  {
   "cell_type": "code",
   "execution_count": 22,
   "id": "705a47ab",
   "metadata": {},
   "outputs": [
    {
     "ename": "TypeError",
     "evalue": "company() takes 3 positional arguments but 4 were given",
     "output_type": "error",
     "traceback": [
      "\u001b[1;31m---------------------------------------------------------------------------\u001b[0m",
      "\u001b[1;31mTypeError\u001b[0m                                 Traceback (most recent call last)",
      "Cell \u001b[1;32mIn[22], line 2\u001b[0m\n\u001b[0;32m      1\u001b[0m \u001b[38;5;66;03m#required argument\u001b[39;00m\n\u001b[1;32m----> 2\u001b[0m \u001b[43mcompany\u001b[49m\u001b[43m(\u001b[49m\u001b[38;5;241;43m2\u001b[39;49m\u001b[43m,\u001b[49m\u001b[38;5;124;43m\"\u001b[39;49m\u001b[38;5;124;43mtushar\u001b[39;49m\u001b[38;5;124;43m\"\u001b[39;49m\u001b[43m,\u001b[49m\u001b[38;5;124;43m\"\u001b[39;49m\u001b[38;5;124;43mregex@gmail.com\u001b[39;49m\u001b[38;5;124;43m\"\u001b[39;49m\u001b[43m,\u001b[49m\u001b[38;5;241;43m10\u001b[39;49m\u001b[43m)\u001b[49m\n",
      "\u001b[1;31mTypeError\u001b[0m: company() takes 3 positional arguments but 4 were given"
     ]
    }
   ],
   "source": [
    "#required argument\n",
    "company(2,\"tushar\",\"regex@gmail.com\")"
   ]
  },
  {
   "cell_type": "code",
   "execution_count": 25,
   "id": "7052a075",
   "metadata": {},
   "outputs": [
    {
     "name": "stdout",
     "output_type": "stream",
     "text": [
      "Eid:tushar \n",
      "FName:2 \n",
      "Email:regex@gmail.com\n"
     ]
    }
   ],
   "source": [
    "def company(eid, fname, email):\n",
    "    print(f\"Eid:{eid} \\nFName:{fname} \\nEmail:{email}\")\n",
    "    \n",
    "# positional argument\n",
    "company(\"tushar\",2,\"regex@gmail.com\")"
   ]
  },
  {
   "cell_type": "code",
   "execution_count": 30,
   "id": "bdbed90e",
   "metadata": {},
   "outputs": [
    {
     "name": "stdout",
     "output_type": "stream",
     "text": [
      "Eid:2 \n",
      "FName:tushar \n",
      "Email:regex@gmail.com\n"
     ]
    }
   ],
   "source": [
    "def company(eid, fname, email):\n",
    "    print(f\"Eid:{eid} \\nFName:{fname} \\nEmail:{email}\")\n",
    "    \n",
    "# keyword  argument\n",
    "company(email=\"regex@gmail.com\",fname=\"tushar\",eid=2)"
   ]
  },
  {
   "cell_type": "code",
   "execution_count": 37,
   "id": "4c753617",
   "metadata": {},
   "outputs": [
    {
     "name": "stdout",
     "output_type": "stream",
     "text": [
      "Eid:tushar \n",
      "FName:2 \n",
      "Email:regex@gmail.com\n"
     ]
    }
   ],
   "source": [
    "def company(eid, fname, email):\n",
    "    print(f\"Eid:{eid} \\nFName:{fname} \\nEmail:{email}\")\n",
    "\n",
    "\n",
    "company(\"tushar\",2,email=\"regex@gmail.com\")"
   ]
  },
  {
   "cell_type": "code",
   "execution_count": 46,
   "id": "0c5732e3",
   "metadata": {},
   "outputs": [
    {
     "name": "stdout",
     "output_type": "stream",
     "text": [
      "Eid:20 \n",
      "FName:tushar \n",
      "Email:gmail.com\n"
     ]
    }
   ],
   "source": [
    "# default argument - function declaration\n",
    "def company(eid, fname=\"raj\", email=\"gmail.com\"):\n",
    "    print(f\"Eid:{eid} \\nFName:{fname} \\nEmail:{email}\")\n",
    "\n",
    "\n",
    "company(eid=20,fname=\"tushar\")"
   ]
  },
  {
   "cell_type": "code",
   "execution_count": 48,
   "id": "ffe871c1",
   "metadata": {},
   "outputs": [
    {
     "name": "stdout",
     "output_type": "stream",
     "text": [
      "Eid:20 \n",
      "FName:tushar \n",
      "Email:gmail.com\n"
     ]
    }
   ],
   "source": [
    "def company(eid, fname, email):\n",
    "    print(f\"Eid:{eid} \\nFName:{fname} \\nEmail:{email}\")\n",
    "\n",
    "\n",
    "company(20,\"tushar\",\"gmail.com\")"
   ]
  },
  {
   "cell_type": "code",
   "execution_count": 66,
   "id": "02dcdc52",
   "metadata": {},
   "outputs": [
    {
     "name": "stdout",
     "output_type": "stream",
     "text": [
      "(10, 20, 30, 'hey', 90) <class 'tuple'>\n"
     ]
    }
   ],
   "source": [
    "#variable length argument => it's like a positional argument\n",
    "def company(*data):\n",
    "    print(data, type(data) )\n",
    "\n",
    "company(10,20,30,\"hey\",90)"
   ]
  },
  {
   "cell_type": "code",
   "execution_count": 67,
   "id": "855ee455",
   "metadata": {},
   "outputs": [
    {
     "ename": "NameError",
     "evalue": "name 'data' is not defined",
     "output_type": "error",
     "traceback": [
      "\u001b[1;31m---------------------------------------------------------------------------\u001b[0m",
      "\u001b[1;31mNameError\u001b[0m                                 Traceback (most recent call last)",
      "Cell \u001b[1;32mIn[67], line 5\u001b[0m\n\u001b[0;32m      2\u001b[0m \u001b[38;5;28;01mdef\u001b[39;00m \u001b[38;5;21mcompany\u001b[39m(\u001b[38;5;241m*\u001b[39m\u001b[38;5;241m*\u001b[39mkwargs):\n\u001b[0;32m      3\u001b[0m     \u001b[38;5;28mprint\u001b[39m(data, \u001b[38;5;28mtype\u001b[39m(data) )\n\u001b[1;32m----> 5\u001b[0m \u001b[43mcompany\u001b[49m\u001b[43m(\u001b[49m\u001b[43mhey\u001b[49m\u001b[38;5;241;43m=\u001b[39;49m\u001b[38;5;241;43m1\u001b[39;49m\u001b[43m,\u001b[49m\u001b[43m \u001b[49m\u001b[43mage\u001b[49m\u001b[38;5;241;43m=\u001b[39;49m\u001b[38;5;241;43m200\u001b[39;49m\u001b[43m)\u001b[49m\n",
      "Cell \u001b[1;32mIn[67], line 3\u001b[0m, in \u001b[0;36mcompany\u001b[1;34m(**kwargs)\u001b[0m\n\u001b[0;32m      2\u001b[0m \u001b[38;5;28;01mdef\u001b[39;00m \u001b[38;5;21mcompany\u001b[39m(\u001b[38;5;241m*\u001b[39m\u001b[38;5;241m*\u001b[39mkwargs):\n\u001b[1;32m----> 3\u001b[0m     \u001b[38;5;28mprint\u001b[39m(\u001b[43mdata\u001b[49m, \u001b[38;5;28mtype\u001b[39m(data) )\n",
      "\u001b[1;31mNameError\u001b[0m: name 'data' is not defined"
     ]
    }
   ],
   "source": [
    "# keyword variable length argument\n",
    "def company(**kwargs):\n",
    "    print(data, type(data) )\n",
    "\n",
    "company(hey=1, age=200)"
   ]
  },
  {
   "cell_type": "code",
   "execution_count": 68,
   "id": "a0b4e285",
   "metadata": {},
   "outputs": [],
   "source": [
    "#  *args and **kwargs"
   ]
  },
  {
   "cell_type": "code",
   "execution_count": 69,
   "id": "222643b0",
   "metadata": {},
   "outputs": [],
   "source": [
    "# first class functions vs high order functions\n",
    "def greeting():\n",
    "    print(\"hello funcitons\")"
   ]
  },
  {
   "cell_type": "code",
   "execution_count": 74,
   "id": "74403a07",
   "metadata": {},
   "outputs": [
    {
     "name": "stdout",
     "output_type": "stream",
     "text": [
      "<function greeting at 0x0000025C6E02A7A0>\n",
      "X <function greeting at 0x0000025C6E02A7A0>\n"
     ]
    }
   ],
   "source": [
    "print(greeting)\n",
    "\n",
    "x=greeting\n",
    "print(\"X\",x)"
   ]
  },
  {
   "cell_type": "code",
   "execution_count": 77,
   "id": "f7243a9a",
   "metadata": {},
   "outputs": [
    {
     "name": "stdout",
     "output_type": "stream",
     "text": [
      "hello funcitons\n"
     ]
    }
   ],
   "source": [
    "# greeting()\n",
    "x()"
   ]
  },
  {
   "cell_type": "code",
   "execution_count": 78,
   "id": "8c6b671c",
   "metadata": {},
   "outputs": [],
   "source": [
    "\n"
   ]
  },
  {
   "cell_type": "code",
   "execution_count": 96,
   "id": "3dcd687a",
   "metadata": {},
   "outputs": [],
   "source": [
    "def addNo(num):\n",
    "    print(\"hey\")\n",
    "    return 500\n",
    "    return 10000"
   ]
  },
  {
   "cell_type": "code",
   "execution_count": 97,
   "id": "71ed85da",
   "metadata": {},
   "outputs": [
    {
     "name": "stdout",
     "output_type": "stream",
     "text": [
      "hey\n",
      "function return 500\n"
     ]
    }
   ],
   "source": [
    "out=addNo(100)\n",
    "print(\"function return\",out)"
   ]
  },
  {
   "cell_type": "code",
   "execution_count": 102,
   "id": "02ae31da",
   "metadata": {},
   "outputs": [],
   "source": [
    "def add(a,b):\n",
    "    sum=a+b\n",
    "    return \"hello\""
   ]
  },
  {
   "cell_type": "code",
   "execution_count": 103,
   "id": "54c31f6a",
   "metadata": {},
   "outputs": [
    {
     "name": "stdout",
     "output_type": "stream",
     "text": [
      "hello\n"
     ]
    }
   ],
   "source": [
    "x=add(10,20)\n",
    "print(x)"
   ]
  },
  {
   "cell_type": "code",
   "execution_count": 104,
   "id": "4ec93e4a",
   "metadata": {},
   "outputs": [],
   "source": [
    "# high order function => \n",
    "# if we pass a function as a argument to another functions\n",
    "# we will call it high order"
   ]
  },
  {
   "cell_type": "code",
   "execution_count": 112,
   "id": "9bf20967",
   "metadata": {},
   "outputs": [
    {
     "name": "stdout",
     "output_type": "stream",
     "text": [
      "PK Dabang Movie\n"
     ]
    }
   ],
   "source": [
    "def salmanKhan():\n",
    "    return \"Dabang Movie\"\n",
    "    \n",
    "def AamirKhan(x):\n",
    "    print(\"PK\",x() )\n",
    "\n",
    "\n",
    "AamirKhan( salmanKhan )\n"
   ]
  },
  {
   "cell_type": "code",
   "execution_count": 116,
   "id": "31206b38",
   "metadata": {},
   "outputs": [
    {
     "name": "stdout",
     "output_type": "stream",
     "text": [
      "5 25\n"
     ]
    }
   ],
   "source": [
    "def square(x):\n",
    "    return x**2\n",
    "\n",
    "def Newfunction(num, func):\n",
    "    print(num, func(num) )\n",
    "    \n",
    "Newfunction(5, square )"
   ]
  }
 ],
 "metadata": {
  "kernelspec": {
   "display_name": "Python 3 (ipykernel)",
   "language": "python",
   "name": "python3"
  },
  "language_info": {
   "codemirror_mode": {
    "name": "ipython",
    "version": 3
   },
   "file_extension": ".py",
   "mimetype": "text/x-python",
   "name": "python",
   "nbconvert_exporter": "python",
   "pygments_lexer": "ipython3",
   "version": "3.10.11"
  }
 },
 "nbformat": 4,
 "nbformat_minor": 5
}
