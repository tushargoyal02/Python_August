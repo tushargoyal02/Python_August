{
 "cells": [
  {
   "cell_type": "code",
   "execution_count": 2,
   "id": "ea14a806",
   "metadata": {},
   "outputs": [
    {
     "data": {
      "text/plain": [
       "3"
      ]
     },
     "execution_count": 2,
     "metadata": {},
     "output_type": "execute_result"
    }
   ],
   "source": [
    "#  polymorphism , obj, variable, function\n",
    "\n",
    "def fun(int x,int y)\n",
    "\n",
    "\n",
    "def fun(string x, int y)\n",
    "\n",
    "fun(\"10\",20)"
   ]
  },
  {
   "cell_type": "code",
   "execution_count": 4,
   "id": "0cde35f8",
   "metadata": {},
   "outputs": [
    {
     "data": {
      "text/plain": [
       "'hi'"
      ]
     },
     "execution_count": 4,
     "metadata": {},
     "output_type": "execute_result"
    }
   ],
   "source": [
    "\"h\"+\"i\""
   ]
  },
  {
   "cell_type": "code",
   "execution_count": 8,
   "id": "28788a5a",
   "metadata": {},
   "outputs": [
    {
     "ename": "TypeError",
     "evalue": "Student.__init__() takes 1 positional argument but 2 were given",
     "output_type": "error",
     "traceback": [
      "\u001b[1;31m---------------------------------------------------------------------------\u001b[0m",
      "\u001b[1;31mTypeError\u001b[0m                                 Traceback (most recent call last)",
      "Cell \u001b[1;32mIn[8], line 8\u001b[0m\n\u001b[0;32m      5\u001b[0m     \u001b[38;5;28;01mdef\u001b[39;00m \u001b[38;5;21m__init__\u001b[39m(\u001b[38;5;28mself\u001b[39m):\n\u001b[0;32m      6\u001b[0m         \u001b[38;5;28mprint\u001b[39m(\u001b[38;5;124m\"\u001b[39m\u001b[38;5;124mSecond\u001b[39m\u001b[38;5;124m\"\u001b[39m)\n\u001b[1;32m----> 8\u001b[0m s1\u001b[38;5;241m=\u001b[39m\u001b[43mStudent\u001b[49m\u001b[43m(\u001b[49m\u001b[38;5;241;43m10\u001b[39;49m\u001b[43m)\u001b[49m\n\u001b[0;32m      9\u001b[0m s1\n",
      "\u001b[1;31mTypeError\u001b[0m: Student.__init__() takes 1 positional argument but 2 were given"
     ]
    }
   ],
   "source": [
    "class Student:\n",
    "    def __init__(self,x):\n",
    "        print(\"First\")\n",
    "        \n",
    "    def __init__(self):\n",
    "        print(\"Second\")\n",
    "        \n",
    "s1=Student(10)\n",
    "s1"
   ]
  },
  {
   "cell_type": "code",
   "execution_count": 19,
   "id": "e39a9bfc",
   "metadata": {},
   "outputs": [],
   "source": [
    "# default consturtor\n",
    "class Student:\n",
    "    def info(num):\n",
    "        print(\"hey student\")\n",
    "\n",
    "class StudentNew(Student):\n",
    "    def info(self):\n",
    "        print(\"student new class\")\n",
    "        \n",
    "s2=StudentNew()\n"
   ]
  },
  {
   "cell_type": "code",
   "execution_count": 42,
   "id": "e56faf87",
   "metadata": {},
   "outputs": [
    {
     "name": "stdout",
     "output_type": "stream",
     "text": [
      "Object has value 10 & 20\n",
      "Object has value 70 & 90\n"
     ]
    }
   ],
   "source": [
    "#  operator overload\n",
    "class AdditionObject:\n",
    "    company=\"Regex\"\n",
    "    def __init__(self,num1, num2):\n",
    "        self.num1=num1\n",
    "        self.num2=num2\n",
    "    \n",
    "    # function ki representation change\n",
    "    def __repr__(self):\n",
    "        return f\"Object has value {self.num1} & {self.num2}\"\n",
    "    \n",
    "    def __add__(self,obj2):\n",
    "        x=self.num1 + obj2.num1\n",
    "        y=self.num2 + obj2.num2\n",
    "        return AdditionObject(x,y)\n",
    "    \n",
    "a1=AdditionObject(10,20)  # 10=> num1, num2=20\n",
    "a2=AdditionObject(60,70)\n",
    "\n",
    "print(a1)\n",
    "print(a1+a2)"
   ]
  },
  {
   "cell_type": "code",
   "execution_count": 53,
   "id": "5778f35f",
   "metadata": {},
   "outputs": [
    {
     "data": {
      "text/plain": [
       "100"
      ]
     },
     "execution_count": 53,
     "metadata": {},
     "output_type": "execute_result"
    }
   ],
   "source": [
    "class Vehcile:\n",
    "    #private to the class   _Vehcile__amount     _classnme__variable\n",
    "    #name mangling\n",
    "    __amount=100\n",
    "    \n",
    "class TataMotor(Vehcile):\n",
    "    car=\"Harrier\"\n",
    "\n",
    "# v1=Vehcile()\n",
    "# dir(v1)\n",
    "# v1._Vehcile__amount\n",
    "    \n",
    "t1=TataMotor()\n",
    "t1._Vehcile__amount"
   ]
  },
  {
   "cell_type": "code",
   "execution_count": 65,
   "id": "35769653",
   "metadata": {},
   "outputs": [
    {
     "name": "stdout",
     "output_type": "stream",
     "text": [
      "I have 8 legs\n",
      "user function in animal class\n"
     ]
    }
   ],
   "source": [
    "from abc import ABC, abstractmethod\n",
    "#  ABC => abstract base class\n",
    "\n",
    "\n",
    "class Animals(ABC):\n",
    "    @abstractmethod\n",
    "    def legs(self):\n",
    "        pass\n",
    "    \n",
    "    def user(self):\n",
    "        print(\"user function in animal class\")\n",
    "    \n",
    "class Spider(Animals):\n",
    "    def info(self):\n",
    "        print(\"Spider class\")\n",
    "    def legs(self):\n",
    "        print(\"I have 8 legs\")\n",
    "     \n",
    "s1=Spider()\n",
    "s1.legs()\n",
    "s1.user()"
   ]
  },
  {
   "cell_type": "code",
   "execution_count": 67,
   "id": "fba2e0ac",
   "metadata": {},
   "outputs": [
    {
     "ename": "TypeError",
     "evalue": "Can't instantiate abstract class Animals with abstract method legs",
     "output_type": "error",
     "traceback": [
      "\u001b[1;31m---------------------------------------------------------------------------\u001b[0m",
      "\u001b[1;31mTypeError\u001b[0m                                 Traceback (most recent call last)",
      "Cell \u001b[1;32mIn[67], line 1\u001b[0m\n\u001b[1;32m----> 1\u001b[0m a1\u001b[38;5;241m=\u001b[39m\u001b[43mAnimals\u001b[49m\u001b[43m(\u001b[49m\u001b[43m)\u001b[49m\n",
      "\u001b[1;31mTypeError\u001b[0m: Can't instantiate abstract class Animals with abstract method legs"
     ]
    }
   ],
   "source": [
    "a1=Animals()"
   ]
  },
  {
   "cell_type": "code",
   "execution_count": 68,
   "id": "a3b1645e",
   "metadata": {},
   "outputs": [],
   "source": [
    "#  collections  - khud se start\n",
    "\n",
    "#  oops => inherience\n",
    "#  class object\n",
    "#  method overloading vs overriding\n",
    "# type of inheritence\n",
    "#  args vs kwargs\n",
    "#  func vs lambda \n",
    "#  list vs tuple\n",
    "#  deep copy vs shallow copy\n"
   ]
  },
  {
   "cell_type": "code",
   "execution_count": 69,
   "id": "df8e9010",
   "metadata": {},
   "outputs": [
    {
     "ename": "SyntaxError",
     "evalue": "incomplete input (726622379.py, line 4)",
     "output_type": "error",
     "traceback": [
      "\u001b[1;36m  Cell \u001b[1;32mIn[69], line 4\u001b[1;36m\u001b[0m\n\u001b[1;33m    \u001b[0m\n\u001b[1;37m    ^\u001b[0m\n\u001b[1;31mSyntaxError\u001b[0m\u001b[1;31m:\u001b[0m incomplete input\n"
     ]
    }
   ],
   "source": [
    "def func():\n",
    "    \n",
    "    \n",
    "    "
   ]
  },
  {
   "cell_type": "code",
   "execution_count": 73,
   "id": "a0776796",
   "metadata": {},
   "outputs": [],
   "source": [
    "mylist=[10,20,30]\n",
    "newl=[]\n",
    "\n",
    "for i in mylist:\n",
    "    newl.append(i+2)"
   ]
  },
  {
   "cell_type": "code",
   "execution_count": 75,
   "id": "ee7149f9",
   "metadata": {},
   "outputs": [
    {
     "data": {
      "text/plain": [
       "[12, 22, 32]"
      ]
     },
     "execution_count": 75,
     "metadata": {},
     "output_type": "execute_result"
    }
   ],
   "source": [
    "newl"
   ]
  },
  {
   "cell_type": "code",
   "execution_count": 81,
   "id": "0f1d87d8",
   "metadata": {},
   "outputs": [
    {
     "name": "stdout",
     "output_type": "stream",
     "text": [
      "{10: 100, 20: 400, 30: 900, 992: 984064, 19: 361}\n"
     ]
    },
    {
     "data": {
      "text/plain": [
       "[12, 22, 32, 994]"
      ]
     },
     "execution_count": 81,
     "metadata": {},
     "output_type": "execute_result"
    }
   ],
   "source": [
    "mylist=[10,20,30,992,19]\n",
    "\n",
    "squared_dict = {x:x**2 for x in mylist}\n",
    "print(squared_dict)\n",
    "\n",
    "x=[i+2 for i in mylist if i%2==0]\n",
    "x"
   ]
  }
 ],
 "metadata": {
  "kernelspec": {
   "display_name": "Python 3 (ipykernel)",
   "language": "python",
   "name": "python3"
  },
  "language_info": {
   "codemirror_mode": {
    "name": "ipython",
    "version": 3
   },
   "file_extension": ".py",
   "mimetype": "text/x-python",
   "name": "python",
   "nbconvert_exporter": "python",
   "pygments_lexer": "ipython3",
   "version": "3.10.11"
  }
 },
 "nbformat": 4,
 "nbformat_minor": 5
}
